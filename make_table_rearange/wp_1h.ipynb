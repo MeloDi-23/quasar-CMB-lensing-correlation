{
 "cells": [
  {
   "cell_type": "code",
   "execution_count": 1,
   "metadata": {},
   "outputs": [],
   "source": [
    "import numpy as np\n",
    "import pickle\n",
    "from Corrfunc.theory import DD, DDrppi\n",
    "from Corrfunc.utils import convert_3d_counts_to_cf, convert_rp_pi_counts_to_wp\n",
    "import tqdm\n",
    "import matplotlib.pyplot as plt"
   ]
  },
  {
   "cell_type": "code",
   "execution_count": 7,
   "metadata": {},
   "outputs": [],
   "source": [
    "with open('./displacement.bin', 'rb') as f:\n",
    "    displacement = pickle.load(f)"
   ]
  },
  {
   "cell_type": "code",
   "execution_count": 2,
   "metadata": {},
   "outputs": [],
   "source": [
    "nthread = 40\n",
    "\n",
    "sep_min = 0.01\n",
    "sep_max = 100\n",
    "sep_N = 50\n",
    "\n",
    "pimax = 100                         # this should match the result from auto corr\n",
    "boxsize = 2500\n",
    "\n",
    "rp_bins = np.geomspace(sep_min, sep_max, sep_N+1)\n",
    "rp = (rp_bins[1:]*rp_bins[:-1])**0.5\n",
    "\n",
    "np.save('./wp/rp', rp)"
   ]
  },
  {
   "cell_type": "markdown",
   "metadata": {},
   "source": [
    "## 1h s-s term"
   ]
  },
  {
   "cell_type": "code",
   "execution_count": 4,
   "metadata": {},
   "outputs": [
    {
     "name": "stderr",
     "output_type": "stream",
     "text": [
      "  4%|▍         | 7/161 [05:06<1:52:27, 43.82s/it]\n"
     ]
    },
    {
     "ename": "RuntimeError",
     "evalue": "RuntimeError occurred",
     "output_type": "error",
     "traceback": [
      "\u001b[0;31m---------------------------------------------------------------------------\u001b[0m",
      "\u001b[0;31mRuntimeError\u001b[0m                              Traceback (most recent call last)",
      "Cell \u001b[0;32mIn[4], line 10\u001b[0m\n\u001b[1;32m      8\u001b[0m sat \u001b[38;5;241m=\u001b[39m displacement[i]\n\u001b[1;32m      9\u001b[0m ND \u001b[38;5;241m=\u001b[39m \u001b[38;5;28mlen\u001b[39m(sat)\n\u001b[0;32m---> 10\u001b[0m D1D2 \u001b[38;5;241m=\u001b[39m DDrppi(\u001b[38;5;241m1\u001b[39m, nthread, pimax, rp_bins, X1\u001b[38;5;241m=\u001b[39msat[:,\u001b[38;5;241m0\u001b[39m]\u001b[38;5;241m.\u001b[39mT \u001b[38;5;241m+\u001b[39m boxsize\u001b[38;5;241m/\u001b[39m\u001b[38;5;241m2\u001b[39m, Y1\u001b[38;5;241m=\u001b[39msat[:,\u001b[38;5;241m1\u001b[39m]\u001b[38;5;241m.\u001b[39mT \u001b[38;5;241m+\u001b[39m boxsize\u001b[38;5;241m/\u001b[39m\u001b[38;5;241m2\u001b[39m, Z1\u001b[38;5;241m=\u001b[39msat[:,\u001b[38;5;241m2\u001b[39m]\u001b[38;5;241m.\u001b[39mT \u001b[38;5;241m+\u001b[39m boxsize\u001b[38;5;241m/\u001b[39m\u001b[38;5;241m2\u001b[39m, periodic\u001b[38;5;241m=\u001b[39m\u001b[38;5;28;01mTrue\u001b[39;00m, boxsize\u001b[38;5;241m=\u001b[39mboxsize, verbose\u001b[38;5;241m=\u001b[39m\u001b[38;5;28;01mFalse\u001b[39;00m)\n\u001b[1;32m     12\u001b[0m vol \u001b[38;5;241m=\u001b[39m np\u001b[38;5;241m.\u001b[39mpi\u001b[38;5;241m*\u001b[39m(D1D2[\u001b[38;5;124m'\u001b[39m\u001b[38;5;124mrmax\u001b[39m\u001b[38;5;124m'\u001b[39m]\u001b[38;5;241m*\u001b[39m\u001b[38;5;241m*\u001b[39m\u001b[38;5;241m2\u001b[39m \u001b[38;5;241m-\u001b[39m D1D2[\u001b[38;5;124m'\u001b[39m\u001b[38;5;124mrmin\u001b[39m\u001b[38;5;124m'\u001b[39m]\u001b[38;5;241m*\u001b[39m\u001b[38;5;241m*\u001b[39m\u001b[38;5;241m2\u001b[39m)\u001b[38;5;241m*\u001b[39m\u001b[38;5;241m1\u001b[39m           \u001b[38;5;66;03m# delta r pi = 1\u001b[39;00m\n\u001b[1;32m     14\u001b[0m counts\u001b[38;5;241m.\u001b[39mappend(D1D2)\n",
      "File \u001b[0;32m~/software/pkg/miniconda3/envs/corrfunc/lib/python3.12/site-packages/Corrfunc/theory/DDrppi.py:319\u001b[0m, in \u001b[0;36mDDrppi\u001b[0;34m(autocorr, nthreads, pimax, binfile, X1, Y1, Z1, weights1, periodic, boxsize, X2, Y2, Z2, weights2, verbose, output_rpavg, xbin_refine_factor, ybin_refine_factor, zbin_refine_factor, max_cells_per_dim, copy_particles, enable_min_sep_opt, c_api_timer, isa, weight_type)\u001b[0m\n\u001b[1;32m    317\u001b[0m \u001b[38;5;28;01mif\u001b[39;00m extn_results \u001b[38;5;129;01mis\u001b[39;00m \u001b[38;5;28;01mNone\u001b[39;00m:\n\u001b[1;32m    318\u001b[0m     msg \u001b[38;5;241m=\u001b[39m \u001b[38;5;124m\"\u001b[39m\u001b[38;5;124mRuntimeError occurred\u001b[39m\u001b[38;5;124m\"\u001b[39m\n\u001b[0;32m--> 319\u001b[0m     \u001b[38;5;28;01mraise\u001b[39;00m \u001b[38;5;167;01mRuntimeError\u001b[39;00m(msg)\n\u001b[1;32m    320\u001b[0m \u001b[38;5;28;01melse\u001b[39;00m:\n\u001b[1;32m    321\u001b[0m     extn_results, api_time \u001b[38;5;241m=\u001b[39m extn_results\n",
      "\u001b[0;31mRuntimeError\u001b[0m: RuntimeError occurred"
     ]
    }
   ],
   "source": [
    "# put this to a .py file.\n",
    "NR = 1000_000_000\n",
    "n = NR / (boxsize**3)\n",
    "\n",
    "wp_array = np.zeros((len(displacement), sep_N))\n",
    "\n",
    "counts = []\n",
    "for i in tqdm.trange(len(displacement)):\n",
    "    sat = displacement[i]\n",
    "    ND = len(sat)\n",
    "    D1D2 = DDrppi(1, nthread, pimax, rp_bins, X1=sat[:,0].T + boxsize/2, Y1=sat[:,1].T + boxsize/2, Z1=sat[:,2].T + boxsize/2, periodic=False, boxsize=boxsize, verbose=False)\n",
    "\n",
    "    counts.append(D1D2)\n",
    "\n",
    "import pickle\n",
    "with open('1h_ss_count.bin', 'wb') as f:\n",
    "    pickle.dump(counts, f)"
   ]
  },
  {
   "cell_type": "code",
   "execution_count": 5,
   "metadata": {},
   "outputs": [],
   "source": [
    "import pickle\n",
    "with open('bin/1h_ss_count.bin', 'rb') as f:\n",
    "    counts = pickle.load(f)"
   ]
  },
  {
   "cell_type": "code",
   "execution_count": 6,
   "metadata": {},
   "outputs": [],
   "source": [
    "area = np.pi*(rp_bins[1:]**2 - rp_bins[:-1]**2)\n",
    "wf = np.zeros((len(counts), sep_N))\n",
    "\n",
    "for i in range(len(counts)):\n",
    "    count = counts[i]\n",
    "    total = displacement[i].shape[0]\n",
    "    for j in range(sep_N):\n",
    "        wf[i,j] = count['npairs'][j*pimax:(j+1)*pimax].sum() / area[j] / (total*(total-1))"
   ]
  },
  {
   "cell_type": "code",
   "execution_count": 8,
   "metadata": {},
   "outputs": [],
   "source": [
    "np.save('wp/1h_ss_wp', wf)"
   ]
  },
  {
   "cell_type": "code",
   "execution_count": 9,
   "metadata": {},
   "outputs": [
    {
     "data": {
      "text/plain": [
       "[]"
      ]
     },
     "execution_count": 9,
     "metadata": {},
     "output_type": "execute_result"
    },
    {
     "data": {
      "image/png": "[encoded data removed]",
      "text/plain": [
       "<Figure size 640x480 with 1 Axes>"
      ]
     },
     "metadata": {},
     "output_type": "display_data"
    }
   ],
   "source": [
    "plt.plot(rp, wf[80])\n",
    "plt.loglog()"
   ]
  },
  {
   "cell_type": "markdown",
   "metadata": {},
   "source": [
    "## 1h c-s term"
   ]
  },
  {
   "cell_type": "code",
   "execution_count": 8,
   "metadata": {},
   "outputs": [
    {
     "name": "stderr",
     "output_type": "stream",
     "text": [
      "100%|██████████| 161/161 [00:02<00:00, 74.77it/s]\n"
     ]
    }
   ],
   "source": [
    "wf_cs = np.zeros((len(displacement), sep_N))\n",
    "\n",
    "area = np.pi*(rp_bins[1:]**2 - rp_bins[:-1]**2)\n",
    "\n",
    "for i in tqdm.tqdm(range(len(displacement))):\n",
    "    sat = displacement[i]\n",
    "    ND = len(sat)\n",
    "\n",
    "    radius = np.sqrt(sat[:,0]**2 + sat[:,1]**2)\n",
    "\n",
    "    count = np.bincount(np.digitize(radius, rp_bins), minlength=sep_N+1)[1:]\n",
    "\n",
    "    wf_cs[i] = count / area / ND"
   ]
  },
  {
   "cell_type": "code",
   "execution_count": 11,
   "metadata": {},
   "outputs": [],
   "source": [
    "np.save('wp/1h_cs_wp', wf_cs)"
   ]
  },
  {
   "cell_type": "code",
   "execution_count": 13,
   "metadata": {},
   "outputs": [
    {
     "data": {
      "text/plain": [
       "[]"
      ]
     },
     "execution_count": 13,
     "metadata": {},
     "output_type": "execute_result"
    },
    {
     "data": {
      "image/png": "[encoded data removed]",
      "text/plain": [
       "<Figure size 640x480 with 1 Axes>"
      ]
     },
     "metadata": {},
     "output_type": "display_data"
    }
   ],
   "source": [
    "plt.plot(rp, wf_cs[80])\n",
    "plt.loglog()"
   ]
  }
 ],
 "metadata": {
  "kernelspec": {
   "display_name": "corrfunc",
   "language": "python",
   "name": "python3"
  },
  "language_info": {
   "codemirror_mode": {
    "name": "ipython",
    "version": 3
   },
   "file_extension": ".py",
   "mimetype": "text/x-python",
   "name": "python",
   "nbconvert_exporter": "python",
   "pygments_lexer": "ipython3",
   "version": "3.12.2"
  }
 },
 "nbformat": 4,
 "nbformat_minor": 2
}
