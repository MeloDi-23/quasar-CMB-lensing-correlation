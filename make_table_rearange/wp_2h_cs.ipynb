{
 "cells": [
  {
   "cell_type": "code",
   "execution_count": 1,
   "metadata": {},
   "outputs": [],
   "source": [
    "import numpy as np\n",
    "import os\n",
    "import re\n",
    "from Corrfunc.utils import convert_rp_pi_counts_to_wp\n",
    "from Corrfunc.theory import DDrppi"
   ]
  },
  {
   "cell_type": "markdown",
   "metadata": {},
   "source": [
    "calculate the wp"
   ]
  },
  {
   "cell_type": "code",
   "execution_count": 2,
   "metadata": {},
   "outputs": [],
   "source": [
    "import pickle\n",
    "with open('bin/c_s_pair_count.bin', 'rb') as f:\n",
    "    result_dict = pickle.load(f)\n",
    "calc = result_dict[(1,1)]\n",
    "vol = np.pi*(calc['rmax']**2 - calc['rmin']**2)*1           # delta r pi = 1"
   ]
  },
  {
   "cell_type": "code",
   "execution_count": 3,
   "metadata": {},
   "outputs": [],
   "source": [
    "boxsize = 2500\n",
    "NR = 1000_000_000\n",
    "n = NR / (boxsize**3)\n",
    "RR = calc.copy()\n",
    "RR['npairs'] = (NR*vol*n*2).astype('uint64')            # this has been cross checked to be correct"
   ]
  },
  {
   "cell_type": "code",
   "execution_count": 4,
   "metadata": {},
   "outputs": [],
   "source": [
    "NDs = np.load('halo_mass_function.npy')['count']\n",
    "logMh_N = len(NDs)"
   ]
  },
  {
   "cell_type": "code",
   "execution_count": 5,
   "metadata": {},
   "outputs": [],
   "source": [
    "pimax = 100\n",
    "Nbins = len(RR['npairs'])//pimax"
   ]
  },
  {
   "cell_type": "code",
   "execution_count": 6,
   "metadata": {},
   "outputs": [],
   "source": [
    "wp_array = np.zeros((logMh_N, logMh_N, Nbins))\n",
    "cnt = 0\n",
    "for i in range(logMh_N):\n",
    "    for j in range(logMh_N):\n",
    "        if (i+1,j+1) not in result_dict:\n",
    "            print(i,j)\n",
    "            continue\n",
    "        ND1 = NDs[i]\n",
    "        ND2 = NDs[j]\n",
    "        D1R2 = RR.copy()\n",
    "        D1R2['npairs'] = ND1*vol*n*2\n",
    "        D2R1 = RR.copy()\n",
    "        D2R1['npairs'] = ND2*vol*n*2\n",
    "        R1R2 = RR\n",
    "        D1D2 = result_dict[(i+1,j+1)]\n",
    "        wp_array[i,j] = convert_rp_pi_counts_to_wp(ND1, ND2, NR, NR, D1D2, D1R2, D2R1, R1R2, pimax=pimax, nrpbins=Nbins)"
   ]
  },
  {
   "cell_type": "code",
   "execution_count": 7,
   "metadata": {},
   "outputs": [],
   "source": [
    "np.save('wp/2h_cs_wp', wp_array)"
   ]
  },
  {
   "cell_type": "markdown",
   "metadata": {},
   "source": [
    "check the result"
   ]
  },
  {
   "cell_type": "code",
   "execution_count": 11,
   "metadata": {},
   "outputs": [],
   "source": [
    "sep_min = 0.01\n",
    "sep_max = 100\n",
    "sep_N = 50\n",
    "r_pbins = np.geomspace(sep_min, sep_max, sep_N+1)\n",
    "r_p = (r_pbins[1:]*r_pbins[:-1])**0.5"
   ]
  },
  {
   "cell_type": "code",
   "execution_count": 12,
   "metadata": {},
   "outputs": [],
   "source": [
    "import matplotlib.pyplot as plt"
   ]
  },
  {
   "cell_type": "code",
   "execution_count": 13,
   "metadata": {},
   "outputs": [
    {
     "data": {
      "text/plain": [
       "[]"
      ]
     },
     "execution_count": 13,
     "metadata": {},
     "output_type": "execute_result"
    },
    {
     "data": {
      "image/png": "[encoded data removed]",
      "text/plain": [
       "<Figure size 640x480 with 1 Axes>"
      ]
     },
     "metadata": {},
     "output_type": "display_data"
    }
   ],
   "source": [
    "plt.plot(r_p, wp_array[80, 80])\n",
    "plt.loglog()"
   ]
  },
  {
   "cell_type": "code",
   "execution_count": null,
   "metadata": {},
   "outputs": [],
   "source": []
  }
 ],
 "metadata": {
  "kernelspec": {
   "display_name": "base",
   "language": "python",
   "name": "python3"
  },
  "language_info": {
   "codemirror_mode": {
    "name": "ipython",
    "version": 3
   },
   "file_extension": ".py",
   "mimetype": "text/x-python",
   "name": "python",
   "nbconvert_exporter": "python",
   "pygments_lexer": "ipython3",
   "version": "3.12.2"
  }
 },
 "nbformat": 4,
 "nbformat_minor": 2
}
