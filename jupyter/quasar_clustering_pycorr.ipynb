{
 "cells": [
  {
   "cell_type": "code",
   "execution_count": 17,
   "metadata": {},
   "outputs": [],
   "source": [
    "import pycorr\n",
    "import healpy as hp\n",
    "import numpy as np\n",
    "import matplotlib.pyplot as plt\n",
    "from astropy.cosmology import Planck18 as cosmos\n",
    "from astropy import units as u\n",
    "h = cosmos.H0.value/100"
   ]
  },
  {
   "cell_type": "code",
   "execution_count": 18,
   "metadata": {},
   "outputs": [],
   "source": [
    "quasar = np.load('../catalogue/quasar_narrow_z_cut.npy')\n",
    "random = np.load('../catalogue/random_sample_quasar_narrow_z_cut.npy')"
   ]
  },
  {
   "cell_type": "code",
   "execution_count": 19,
   "metadata": {},
   "outputs": [],
   "source": [
    "Nside_jack = 4\n",
    "npix = hp.ang2pix(Nside_jack, np.deg2rad(90-quasar['dec']), np.deg2rad(quasar['ra']))"
   ]
  },
  {
   "cell_type": "code",
   "execution_count": 20,
   "metadata": {},
   "outputs": [],
   "source": [
    "label = np.zeros_like(npix)\n",
    "all_pix = np.unique(npix)\n",
    "for i, p in enumerate(all_pix):\n",
    "    label[npix==p] = i"
   ]
  },
  {
   "cell_type": "code",
   "execution_count": 21,
   "metadata": {},
   "outputs": [],
   "source": [
    "dis_cov_q = cosmos.angular_diameter_distance(quasar['z']).to(u.Mpc).value*(1+quasar['z'])*h\n",
    "dis_cov_r = cosmos.angular_diameter_distance(random['z']).to(u.Mpc).value*(1+random['z'])*h"
   ]
  },
  {
   "cell_type": "code",
   "execution_count": 22,
   "metadata": {},
   "outputs": [
    {
     "ename": "RuntimeError",
     "evalue": "RuntimeError occurred",
     "output_type": "error",
     "traceback": [
      "\u001b[0;31m---------------------------------------------------------------------------\u001b[0m",
      "\u001b[0;31mRuntimeError\u001b[0m                              Traceback (most recent call last)",
      "Cell \u001b[0;32mIn[22], line 1\u001b[0m\n\u001b[0;32m----> 1\u001b[0m estimator \u001b[38;5;241m=\u001b[39m pycorr\u001b[38;5;241m.\u001b[39mcorrelation_function\u001b[38;5;241m.\u001b[39mTwoPointCorrelationFunction(\n\u001b[1;32m      2\u001b[0m     mode\u001b[38;5;241m=\u001b[39m\u001b[38;5;124m'\u001b[39m\u001b[38;5;124mrppi\u001b[39m\u001b[38;5;124m'\u001b[39m, edges\u001b[38;5;241m=\u001b[39m[np\u001b[38;5;241m.\u001b[39mgeomspace(\u001b[38;5;241m3\u001b[39m, \u001b[38;5;241m100\u001b[39m, \u001b[38;5;241m15\u001b[39m), np\u001b[38;5;241m.\u001b[39mlinspace(\u001b[38;5;241m-\u001b[39m\u001b[38;5;241m39.0000\u001b[39m, \u001b[38;5;241m39.0000\u001b[39m, \u001b[38;5;241m79\u001b[39m)],\n\u001b[1;32m      3\u001b[0m     data_positions1\u001b[38;5;241m=\u001b[39mnp\u001b[38;5;241m.\u001b[39mvstack((quasar[\u001b[38;5;124m'\u001b[39m\u001b[38;5;124mra\u001b[39m\u001b[38;5;124m'\u001b[39m], quasar[\u001b[38;5;124m'\u001b[39m\u001b[38;5;124mdec\u001b[39m\u001b[38;5;124m'\u001b[39m], dis_cov_q)),\n\u001b[1;32m      4\u001b[0m     randoms_positions1\u001b[38;5;241m=\u001b[39mnp\u001b[38;5;241m.\u001b[39mvstack((random[\u001b[38;5;124m'\u001b[39m\u001b[38;5;124mra\u001b[39m\u001b[38;5;124m'\u001b[39m], random[\u001b[38;5;124m'\u001b[39m\u001b[38;5;124mdec\u001b[39m\u001b[38;5;124m'\u001b[39m], dis_cov_r)),\n\u001b[1;32m      5\u001b[0m     data_weights1\u001b[38;5;241m=\u001b[39mquasar[\u001b[38;5;124m'\u001b[39m\u001b[38;5;124mw\u001b[39m\u001b[38;5;124m'\u001b[39m],\n\u001b[1;32m      6\u001b[0m     randoms_weights1\u001b[38;5;241m=\u001b[39mrandom[\u001b[38;5;124m'\u001b[39m\u001b[38;5;124mw\u001b[39m\u001b[38;5;124m'\u001b[39m],\n\u001b[1;32m      7\u001b[0m     data_samples1\u001b[38;5;241m=\u001b[39mlabel,\n\u001b[1;32m      8\u001b[0m     position_type\u001b[38;5;241m=\u001b[39m\u001b[38;5;124m'\u001b[39m\u001b[38;5;124mrdd\u001b[39m\u001b[38;5;124m'\u001b[39m,\n\u001b[1;32m      9\u001b[0m     estimator\u001b[38;5;241m=\u001b[39m\u001b[38;5;124m'\u001b[39m\u001b[38;5;124mlandyszalay\u001b[39m\u001b[38;5;124m'\u001b[39m\n\u001b[1;32m     10\u001b[0m )\n",
      "File \u001b[0;32m~/software/pkg/miniconda3/lib/python3.12/site-packages/pycorr/correlation_function.py:398\u001b[0m, in \u001b[0;36mTwoPointCorrelationFunction\u001b[0;34m(mode, edges, data_positions1, data_positions2, randoms_positions1, randoms_positions2, shifted_positions1, shifted_positions2, data_weights1, data_weights2, randoms_weights1, randoms_weights2, shifted_weights1, shifted_weights2, data_samples1, data_samples2, randoms_samples1, randoms_samples2, shifted_samples1, shifted_samples2, D1D2_weight_type, D1R2_weight_type, R1D2_weight_type, R1R2_weight_type, S1S2_weight_type, D1S2_weight_type, S1D2_weight_type, S1R2_weight_type, D1D2_twopoint_weights, D1R2_twopoint_weights, R1D2_twopoint_weights, R1R2_twopoint_weights, S1S2_twopoint_weights, D1S2_twopoint_weights, S1D2_twopoint_weights, S1R2_twopoint_weights, estimator, boxsize, selection_attrs, mpicomm, mpiroot, **kwargs)\u001b[0m\n\u001b[1;32m    395\u001b[0m     \u001b[38;5;28;01mif\u001b[39;00m same_shotnoise \u001b[38;5;129;01mand\u001b[39;00m label2[:\u001b[38;5;241m-\u001b[39m\u001b[38;5;241m1\u001b[39m] \u001b[38;5;241m==\u001b[39m label1[:\u001b[38;5;241m-\u001b[39m\u001b[38;5;241m1\u001b[39m] \u001b[38;5;129;01mand\u001b[39;00m is_same(positions2, positions[label1]):  \u001b[38;5;66;03m# D2 = D1, R2 = R1 positions, but different weights; this is to remove the correct amount of auto-pairs at s = 0\u001b[39;00m\n\u001b[1;32m    396\u001b[0m         positions2 \u001b[38;5;241m=\u001b[39m \u001b[38;5;28;01mNone\u001b[39;00m\n\u001b[0;32m--> 398\u001b[0m     counts[label12] \u001b[38;5;241m=\u001b[39m Counter(mode, edges, positions[label1], positions2\u001b[38;5;241m=\u001b[39mpositions2,\n\u001b[1;32m    399\u001b[0m                               weights1\u001b[38;5;241m=\u001b[39mweights[label1], weights2\u001b[38;5;241m=\u001b[39mweights[label2] \u001b[38;5;28;01mif\u001b[39;00m label2 \u001b[38;5;129;01mis\u001b[39;00m \u001b[38;5;129;01mnot\u001b[39;00m \u001b[38;5;28;01mNone\u001b[39;00m \u001b[38;5;28;01melse\u001b[39;00m \u001b[38;5;28;01mNone\u001b[39;00m,\n\u001b[1;32m    400\u001b[0m                               boxsize\u001b[38;5;241m=\u001b[39mboxsize, mpicomm\u001b[38;5;241m=\u001b[39mmpicomm, mpiroot\u001b[38;5;241m=\u001b[39mmpiroot,\n\u001b[1;32m    401\u001b[0m                               \u001b[38;5;241m*\u001b[39m\u001b[38;5;241m*\u001b[39mjackknife_kwargs, \u001b[38;5;241m*\u001b[39m\u001b[38;5;241m*\u001b[39mtwopoint_kwargs, \u001b[38;5;241m*\u001b[39m\u001b[38;5;241m*\u001b[39mkwargs)\n\u001b[1;32m    403\u001b[0m toret \u001b[38;5;241m=\u001b[39m Estimator(\u001b[38;5;241m*\u001b[39m\u001b[38;5;241m*\u001b[39mcounts)\n\u001b[1;32m    404\u001b[0m \u001b[38;5;28;01mif\u001b[39;00m log: logger\u001b[38;5;241m.\u001b[39minfo(\u001b[38;5;124m'\u001b[39m\u001b[38;5;124mCorrelation function computed in elapsed time \u001b[39m\u001b[38;5;132;01m{:.2f}\u001b[39;00m\u001b[38;5;124m s.\u001b[39m\u001b[38;5;124m'\u001b[39m\u001b[38;5;241m.\u001b[39mformat(time\u001b[38;5;241m.\u001b[39mtime() \u001b[38;5;241m-\u001b[39m t0))\n",
      "File \u001b[0;32m~/software/pkg/miniconda3/lib/python3.12/site-packages/pycorr/twopoint_jackknife.py:501\u001b[0m, in \u001b[0;36mJackknifeTwoPointCounter.__init__\u001b[0;34m(self, mode, edges, positions1, samples1, weights1, positions2, samples2, weights2, bin_type, position_type, weight_type, weight_attrs, twopoint_weights, selection_attrs, los, boxsize, compute_sepsavg, dtype, nthreads, mpicomm, mpiroot, nprocs_per_real, samples, **kwargs)\u001b[0m\n\u001b[1;32m    499\u001b[0m \u001b[38;5;28mself\u001b[39m\u001b[38;5;241m.\u001b[39m_set_reversible()\n\u001b[1;32m    500\u001b[0m \u001b[38;5;28mself\u001b[39m\u001b[38;5;241m.\u001b[39mauto, \u001b[38;5;28mself\u001b[39m\u001b[38;5;241m.\u001b[39mcross12, \u001b[38;5;28mself\u001b[39m\u001b[38;5;241m.\u001b[39mcross21 \u001b[38;5;241m=\u001b[39m {}, {}, {}\n\u001b[0;32m--> 501\u001b[0m \u001b[38;5;28mself\u001b[39m\u001b[38;5;241m.\u001b[39mrun(samples\u001b[38;5;241m=\u001b[39msamples)\n\u001b[1;32m    502\u001b[0m \u001b[38;5;28;01mdel\u001b[39;00m \u001b[38;5;28mself\u001b[39m\u001b[38;5;241m.\u001b[39mpositions1, \u001b[38;5;28mself\u001b[39m\u001b[38;5;241m.\u001b[39mpositions2, \u001b[38;5;28mself\u001b[39m\u001b[38;5;241m.\u001b[39mweights1, \u001b[38;5;28mself\u001b[39m\u001b[38;5;241m.\u001b[39mweights2, \u001b[38;5;28mself\u001b[39m\u001b[38;5;241m.\u001b[39msamples1, \u001b[38;5;28mself\u001b[39m\u001b[38;5;241m.\u001b[39msamples2\n",
      "File \u001b[0;32m~/software/pkg/miniconda3/lib/python3.12/site-packages/pycorr/twopoint_jackknife.py:603\u001b[0m, in \u001b[0;36mJackknifeTwoPointCounter.run\u001b[0;34m(self, samples)\u001b[0m\n\u001b[1;32m    601\u001b[0m \u001b[38;5;28;01mif\u001b[39;00m \u001b[38;5;28mself\u001b[39m\u001b[38;5;241m.\u001b[39msame_shotnoise:\n\u001b[1;32m    602\u001b[0m     spositions2 \u001b[38;5;241m=\u001b[39m \u001b[38;5;28;01mNone\u001b[39;00m\n\u001b[0;32m--> 603\u001b[0m tmp \u001b[38;5;241m=\u001b[39m TwoPointCounter(\u001b[38;5;28mself\u001b[39m\u001b[38;5;241m.\u001b[39mmode, edges\u001b[38;5;241m=\u001b[39m\u001b[38;5;28mself\u001b[39m\u001b[38;5;241m.\u001b[39medges, positions1\u001b[38;5;241m=\u001b[39mspositions1, weights1\u001b[38;5;241m=\u001b[39msweights1, positions2\u001b[38;5;241m=\u001b[39mspositions2, weights2\u001b[38;5;241m=\u001b[39msweights2, mpicomm\u001b[38;5;241m=\u001b[39mtm\u001b[38;5;241m.\u001b[39mmpicomm, mpiroot\u001b[38;5;241m=\u001b[39mmpiroot, \u001b[38;5;241m*\u001b[39m\u001b[38;5;241m*\u001b[39mkwargs)\n\u001b[1;32m    604\u001b[0m \u001b[38;5;28;01mif\u001b[39;00m is_root:\n\u001b[1;32m    605\u001b[0m     \u001b[38;5;28mself\u001b[39m\u001b[38;5;241m.\u001b[39mauto[ii] \u001b[38;5;241m=\u001b[39m tmp\n",
      "File \u001b[0;32m~/software/pkg/miniconda3/lib/python3.12/site-packages/pycorr/twopoint_counter.py:65\u001b[0m, in \u001b[0;36mMetaTwoPointCounter.__call__\u001b[0;34m(cls, engine, *args, **kwargs)\u001b[0m\n\u001b[1;32m     64\u001b[0m \u001b[38;5;28;01mdef\u001b[39;00m \u001b[38;5;21m__call__\u001b[39m(\u001b[38;5;28mcls\u001b[39m, \u001b[38;5;241m*\u001b[39margs, engine\u001b[38;5;241m=\u001b[39m\u001b[38;5;124m'\u001b[39m\u001b[38;5;124mcorrfunc\u001b[39m\u001b[38;5;124m'\u001b[39m, \u001b[38;5;241m*\u001b[39m\u001b[38;5;241m*\u001b[39mkwargs):\n\u001b[0;32m---> 65\u001b[0m     \u001b[38;5;28;01mreturn\u001b[39;00m get_twopoint_counter(engine)(\u001b[38;5;241m*\u001b[39margs, \u001b[38;5;241m*\u001b[39m\u001b[38;5;241m*\u001b[39mkwargs)\n",
      "File \u001b[0;32m~/software/pkg/miniconda3/lib/python3.12/site-packages/pycorr/twopoint_counter.py:456\u001b[0m, in \u001b[0;36mBaseTwoPointCounter.__init__\u001b[0;34m(self, mode, edges, positions1, positions2, weights1, weights2, bin_type, position_type, weight_type, weight_attrs, twopoint_weights, selection_attrs, los, boxsize, compute_sepsavg, dtype, nthreads, mpicomm, mpiroot, **kwargs)\u001b[0m\n\u001b[1;32m    454\u001b[0m \u001b[38;5;28mself\u001b[39m\u001b[38;5;241m.\u001b[39mwnorm \u001b[38;5;241m=\u001b[39m \u001b[38;5;28mself\u001b[39m\u001b[38;5;241m.\u001b[39mnormalization()\n\u001b[1;32m    455\u001b[0m t0 \u001b[38;5;241m=\u001b[39m time\u001b[38;5;241m.\u001b[39mtime()\n\u001b[0;32m--> 456\u001b[0m \u001b[38;5;28mself\u001b[39m\u001b[38;5;241m.\u001b[39mrun()\n\u001b[1;32m    457\u001b[0m t1 \u001b[38;5;241m=\u001b[39m time\u001b[38;5;241m.\u001b[39mtime()\n\u001b[1;32m    458\u001b[0m \u001b[38;5;28;01mif\u001b[39;00m \u001b[38;5;129;01mnot\u001b[39;00m \u001b[38;5;28mself\u001b[39m\u001b[38;5;241m.\u001b[39mwith_mpi \u001b[38;5;129;01mor\u001b[39;00m \u001b[38;5;28mself\u001b[39m\u001b[38;5;241m.\u001b[39mmpicomm\u001b[38;5;241m.\u001b[39mrank \u001b[38;5;241m==\u001b[39m \u001b[38;5;241m0\u001b[39m:\n",
      "File \u001b[0;32m~/software/pkg/miniconda3/lib/python3.12/site-packages/pycorr/corrfunc.py:207\u001b[0m, in \u001b[0;36mCorrfuncTwoPointCounter.run\u001b[0;34m(self)\u001b[0m\n\u001b[1;32m    200\u001b[0m         result \u001b[38;5;241m=\u001b[39m call_corrfunc(theory\u001b[38;5;241m.\u001b[39mDDrppi, autocorr, nthreads\u001b[38;5;241m=\u001b[39m\u001b[38;5;28mself\u001b[39m\u001b[38;5;241m.\u001b[39mnthreads,\n\u001b[1;32m    201\u001b[0m                                binfile\u001b[38;5;241m=\u001b[39m\u001b[38;5;28mself\u001b[39m\u001b[38;5;241m.\u001b[39medges[\u001b[38;5;241m0\u001b[39m], pimax\u001b[38;5;241m=\u001b[39m\u001b[38;5;28mself\u001b[39m\u001b[38;5;241m.\u001b[39medges[\u001b[38;5;241m1\u001b[39m][\u001b[38;5;241m-\u001b[39m\u001b[38;5;241m1\u001b[39m], npibins\u001b[38;5;241m=\u001b[39m\u001b[38;5;28mlen\u001b[39m(\u001b[38;5;28mself\u001b[39m\u001b[38;5;241m.\u001b[39medges[\u001b[38;5;241m1\u001b[39m]) \u001b[38;5;241m-\u001b[39m \u001b[38;5;241m1\u001b[39m,\n\u001b[1;32m    202\u001b[0m                                X1\u001b[38;5;241m=\u001b[39mpositions1[\u001b[38;5;241m0\u001b[39m], Y1\u001b[38;5;241m=\u001b[39mpositions1[\u001b[38;5;241m1\u001b[39m], Z1\u001b[38;5;241m=\u001b[39mpositions1[\u001b[38;5;241m2\u001b[39m],\n\u001b[1;32m    203\u001b[0m                                X2\u001b[38;5;241m=\u001b[39mpositions2[\u001b[38;5;241m0\u001b[39m], Y2\u001b[38;5;241m=\u001b[39mpositions2[\u001b[38;5;241m1\u001b[39m], Z2\u001b[38;5;241m=\u001b[39mpositions2[\u001b[38;5;241m2\u001b[39m],\n\u001b[1;32m    204\u001b[0m                                periodic\u001b[38;5;241m=\u001b[39m\u001b[38;5;28mself\u001b[39m\u001b[38;5;241m.\u001b[39mperiodic, boxsize\u001b[38;5;241m=\u001b[39mboxsize,\n\u001b[1;32m    205\u001b[0m                                output_rpavg\u001b[38;5;241m=\u001b[39m\u001b[38;5;28mself\u001b[39m\u001b[38;5;241m.\u001b[39mcompute_sepavg, \u001b[38;5;241m*\u001b[39m\u001b[38;5;241m*\u001b[39mkwargs)\n\u001b[1;32m    206\u001b[0m     \u001b[38;5;28;01melse\u001b[39;00m:\n\u001b[0;32m--> 207\u001b[0m         result \u001b[38;5;241m=\u001b[39m call_corrfunc(mocks\u001b[38;5;241m.\u001b[39mDDrppi_mocks, autocorr, nthreads\u001b[38;5;241m=\u001b[39m\u001b[38;5;28mself\u001b[39m\u001b[38;5;241m.\u001b[39mnthreads,\n\u001b[1;32m    208\u001b[0m                                binfile\u001b[38;5;241m=\u001b[39m\u001b[38;5;28mself\u001b[39m\u001b[38;5;241m.\u001b[39medges[\u001b[38;5;241m0\u001b[39m], pimax\u001b[38;5;241m=\u001b[39m\u001b[38;5;28mself\u001b[39m\u001b[38;5;241m.\u001b[39medges[\u001b[38;5;241m1\u001b[39m][\u001b[38;5;241m-\u001b[39m\u001b[38;5;241m1\u001b[39m], npibins\u001b[38;5;241m=\u001b[39m\u001b[38;5;28mlen\u001b[39m(\u001b[38;5;28mself\u001b[39m\u001b[38;5;241m.\u001b[39medges[\u001b[38;5;241m1\u001b[39m]) \u001b[38;5;241m-\u001b[39m \u001b[38;5;241m1\u001b[39m,\n\u001b[1;32m    209\u001b[0m                                X1\u001b[38;5;241m=\u001b[39mpositions1[\u001b[38;5;241m0\u001b[39m], Y1\u001b[38;5;241m=\u001b[39mpositions1[\u001b[38;5;241m1\u001b[39m], Z1\u001b[38;5;241m=\u001b[39mpositions1[\u001b[38;5;241m2\u001b[39m],\n\u001b[1;32m    210\u001b[0m                                X2\u001b[38;5;241m=\u001b[39mpositions2[\u001b[38;5;241m0\u001b[39m], Y2\u001b[38;5;241m=\u001b[39mpositions2[\u001b[38;5;241m1\u001b[39m], Z2\u001b[38;5;241m=\u001b[39mpositions2[\u001b[38;5;241m2\u001b[39m],\n\u001b[1;32m    211\u001b[0m                                output_rpavg\u001b[38;5;241m=\u001b[39m\u001b[38;5;28mself\u001b[39m\u001b[38;5;241m.\u001b[39mcompute_sepavg, los_type\u001b[38;5;241m=\u001b[39mlos_type, \u001b[38;5;241m*\u001b[39m\u001b[38;5;241m*\u001b[39mkwargs)\n\u001b[1;32m    213\u001b[0m     key_sep \u001b[38;5;241m=\u001b[39m \u001b[38;5;124m'\u001b[39m\u001b[38;5;124mrpavg\u001b[39m\u001b[38;5;124m'\u001b[39m\n\u001b[1;32m    215\u001b[0m \u001b[38;5;28;01melif\u001b[39;00m \u001b[38;5;28mself\u001b[39m\u001b[38;5;241m.\u001b[39mmode \u001b[38;5;241m==\u001b[39m \u001b[38;5;124m'\u001b[39m\u001b[38;5;124mrp\u001b[39m\u001b[38;5;124m'\u001b[39m:\n",
      "File \u001b[0;32m~/software/pkg/miniconda3/lib/python3.12/site-packages/pycorr/corrfunc.py:152\u001b[0m, in \u001b[0;36mCorrfuncTwoPointCounter.run.<locals>.call_corrfunc\u001b[0;34m(method, *args, **kwargs)\u001b[0m\n\u001b[1;32m    150\u001b[0m \u001b[38;5;28;01mdef\u001b[39;00m \u001b[38;5;21mcall_corrfunc\u001b[39m(method, \u001b[38;5;241m*\u001b[39margs, \u001b[38;5;241m*\u001b[39m\u001b[38;5;241m*\u001b[39mkwargs):\n\u001b[1;32m    151\u001b[0m     \u001b[38;5;28;01mtry\u001b[39;00m:\n\u001b[0;32m--> 152\u001b[0m         \u001b[38;5;28;01mreturn\u001b[39;00m method(\u001b[38;5;241m*\u001b[39margs, \u001b[38;5;241m*\u001b[39m\u001b[38;5;241m*\u001b[39mkwargs)\n\u001b[1;32m    153\u001b[0m     \u001b[38;5;28;01mexcept\u001b[39;00m \u001b[38;5;167;01mTypeError\u001b[39;00m \u001b[38;5;28;01mas\u001b[39;00m exc:\n\u001b[1;32m    154\u001b[0m         \u001b[38;5;28;01mif\u001b[39;00m kwargs[\u001b[38;5;124m'\u001b[39m\u001b[38;5;124mgpu\u001b[39m\u001b[38;5;124m'\u001b[39m]:\n",
      "File \u001b[0;32m~/software/pkg/miniconda3/lib/python3.12/site-packages/Corrfunc/mocks/DDrppi_mocks.py:371\u001b[0m, in \u001b[0;36mDDrppi_mocks\u001b[0;34m(autocorr, nthreads, binfile, pimax, npibins, X1, Y1, Z1, weights1, X2, Y2, Z2, weights2, verbose, output_rpavg, fast_divide_and_NR_steps, xbin_refine_factor, ybin_refine_factor, zbin_refine_factor, max_cells_per_dim, copy_particles, enable_min_sep_opt, c_api_timer, isa, weight_type, bin_type, los_type, pair_weights, sep_pair_weights, attrs_pair_weights)\u001b[0m\n\u001b[1;32m    369\u001b[0m \u001b[38;5;28;01mif\u001b[39;00m extn_results \u001b[38;5;129;01mis\u001b[39;00m \u001b[38;5;28;01mNone\u001b[39;00m:\n\u001b[1;32m    370\u001b[0m     msg \u001b[38;5;241m=\u001b[39m \u001b[38;5;124m\"\u001b[39m\u001b[38;5;124mRuntimeError occurred\u001b[39m\u001b[38;5;124m\"\u001b[39m\n\u001b[0;32m--> 371\u001b[0m     \u001b[38;5;28;01mraise\u001b[39;00m \u001b[38;5;167;01mRuntimeError\u001b[39;00m(msg)\n\u001b[1;32m    372\u001b[0m \u001b[38;5;28;01melse\u001b[39;00m:\n\u001b[1;32m    373\u001b[0m     extn_results, api_time \u001b[38;5;241m=\u001b[39m extn_results\n",
      "\u001b[0;31mRuntimeError\u001b[0m: RuntimeError occurred"
     ]
    }
   ],
   "source": [
    "estimator = pycorr.correlation_function.TwoPointCorrelationFunction(\n",
    "    mode='rppi', edges=[np.geomspace(3, 100, 15), np.linspace(-39.0000, 39.0000, 79)],\n",
    "    data_positions1=np.vstack((quasar['ra'], quasar['dec'], dis_cov_q)),\n",
    "    randoms_positions1=np.vstack((random['ra'], random['dec'], dis_cov_r)),\n",
    "    data_weights1=quasar['w'],\n",
    "    randoms_weights1=random['w'],\n",
    "    data_samples1=label,\n",
    "    position_type='rdd',\n",
    "    estimator='landyszalay'\n",
    ")"
   ]
  },
  {
   "cell_type": "code",
   "execution_count": null,
   "metadata": {},
   "outputs": [],
   "source": [
    "DD = pycorr.twopoint_counter.BaseTwoPointCounter(\n",
    "    mode='rppi', edges=[np.geomspace(3, 100, 15), np.linspace(-39.0000, 39.0000, 79)],\n",
    "    positions1=np.vstack((quasar['ra'], quasar['dec'], dis_cov_q)),\n",
    "    weights1=quasar['w'],\n",
    "    data_samples1=label,\n",
    "    position_type='rdd',\n",
    "    estimator='landyszalay'\n",
    ")"
   ]
  },
  {
   "cell_type": "code",
   "execution_count": null,
   "metadata": {},
   "outputs": [],
   "source": []
  }
 ],
 "metadata": {
  "kernelspec": {
   "display_name": "base",
   "language": "python",
   "name": "python3"
  },
  "language_info": {
   "codemirror_mode": {
    "name": "ipython",
    "version": 3
   },
   "file_extension": ".py",
   "mimetype": "text/x-python",
   "name": "python",
   "nbconvert_exporter": "python",
   "pygments_lexer": "ipython3",
   "version": "3.12.2"
  }
 },
 "nbformat": 4,
 "nbformat_minor": 2
}
