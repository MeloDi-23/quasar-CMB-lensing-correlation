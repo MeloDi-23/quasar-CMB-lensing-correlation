{
 "cells": [
  {
   "cell_type": "code",
   "execution_count": 1,
   "metadata": {},
   "outputs": [],
   "source": [
    "import numpy as np\n",
    "from astropy import coordinates as coo\n",
    "from astropy import units as u\n",
    "import healpy as hp\n",
    "import matplotlib.pyplot as plt\n",
    "import multiprocessing as mp\n",
    "from astropy.io import fits\n",
    "from data_process import weight_nan_mean, load_calculation_data, calculate_jackknife_variance\n",
    "from sklearn.neighbors import KDTree"
   ]
  },
  {
   "cell_type": "code",
   "execution_count": 3,
   "metadata": {},
   "outputs": [],
   "source": [
    "Nside_jack = 4\n",
    "r_p, dat = load_calculation_data('../calculation_data/result_r=3_100_15_quasar_lss_all_CMB_lcut_2048_tree.npy', return_rp=True)\n",
    "dat_r = load_calculation_data('../calculation_data/result_r=3_100_15_random_quasar_lss_all_CMB_lcut_2048_tree.npy')\n",
    "\n",
    "\n",
    "with open('label.bin', 'rb') as f:\n",
    "    pix_q = np.load(f)\n",
    "    pix_ra = np.load(f)\n"
   ]
  },
  {
   "cell_type": "code",
   "execution_count": 12,
   "metadata": {},
   "outputs": [
    {
     "name": "stdout",
     "output_type": "stream",
     "text": [
      "finish loading quasar catalogue\n",
      "finish loading random sample\n"
     ]
    }
   ],
   "source": [
    "quasar_cata = np.load('../catalogue/quasar_lss_all.npy')\n",
    "c = coo.SkyCoord(ra=quasar_cata['ra']*u.degree, dec=quasar_cata['dec']*u.degree)\n",
    "l = c.galactic.l.to(u.rad).value\n",
    "b_q = c.galactic.b.to(u.rad).value\n",
    "pix_q = hp.ang2pix(Nside_jack, theta=np.pi/2-b_q, phi=l)\n",
    "print('finish loading quasar catalogue')\n",
    "\n",
    "random_sample = np.load('../catalogue/random_quasar_lss_all.npy')\n",
    "c = coo.SkyCoord(ra=random_sample['ra']*u.degree, dec=random_sample['dec']*u.degree)\n",
    "assert (random_sample['w']==1).all()\n",
    "l = c.galactic.l.to(u.rad).value\n",
    "b_r = c.galactic.b.to(u.rad).value\n",
    "pix_ra = hp.ang2pix(Nside_jack, theta=np.pi/2-b_r, phi=l)\n",
    "\n",
    "\n",
    "print('finish loading random sample')"
   ]
  },
  {
   "cell_type": "code",
   "execution_count": 30,
   "metadata": {},
   "outputs": [],
   "source": [
    "import operator"
   ]
  },
  {
   "cell_type": "code",
   "execution_count": 34,
   "metadata": {},
   "outputs": [],
   "source": [
    "mid = np.percentile(abs(b_q), 50)           # this is about 50 deg, you can also choose other value.\n",
    "\n",
    "for suf, op in zip(['low_b', 'high_b'], [operator.lt, operator.ge]):\n",
    "    index = op(abs(b_q), mid)\n",
    "    value = dat[0,index]\n",
    "    weight = dat[1,index]\n",
    "    pix = pix_q[index]\n",
    "\n",
    "    index = op(abs(b_r), mid)\n",
    "    value_r = dat_r[0,index]\n",
    "    weight_r = dat_r[1,index]\n",
    "    pix_r = pix_ra[index]\n",
    "    sampler_sub  = calculate_jackknife_variance(value, weight, pix, value_r, weight_r, pix_r, norm_cov=True)\n",
    "    np.savetxt(f'./results/quasar_lss_all_{suf}_cmb_lcut_n_2048', np.c_[r_p, sampler_sub['mean'], sampler_sub['std']])"
   ]
  }
 ],
 "metadata": {
  "kernelspec": {
   "display_name": "corrfunc",
   "language": "python",
   "name": "python3"
  },
  "language_info": {
   "codemirror_mode": {
    "name": "ipython",
    "version": 3
   },
   "file_extension": ".py",
   "mimetype": "text/x-python",
   "name": "python",
   "nbconvert_exporter": "python",
   "pygments_lexer": "ipython3",
   "version": "3.12.2"
  }
 },
 "nbformat": 4,
 "nbformat_minor": 2
}
