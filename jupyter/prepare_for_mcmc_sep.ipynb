{
 "cells": [
  {
   "cell_type": "markdown",
   "metadata": {},
   "source": [
    "## Generate Signal and Cov Mat for MCMC."
   ]
  },
  {
   "cell_type": "code",
   "execution_count": 1,
   "metadata": {},
   "outputs": [],
   "source": [
    "import numpy as np\n",
    "import matplotlib.pyplot as plt\n",
    "from data_process import jackknife_label, load_calculation_data, calculate_jackknife_variance_global\n",
    "import astropy.units as u\n",
    "from astropy.cosmology import Planck18 as cosmos\n",
    "import astropy.coordinates as coo\n",
    "h = cosmos.H0.value/100"
   ]
  },
  {
   "cell_type": "code",
   "execution_count": 2,
   "metadata": {},
   "outputs": [],
   "source": [
    "z = 0\n",
    "scale_factor = cosmos.Om(z) * cosmos.critical_density(z).to('M_sun/pc^3').value / h**2 * 1e6"
   ]
  },
  {
   "cell_type": "markdown",
   "metadata": {},
   "source": [
    "## Cross Correlation"
   ]
  },
  {
   "cell_type": "code",
   "execution_count": 3,
   "metadata": {},
   "outputs": [],
   "source": [
    "r_p_cross, dat = load_calculation_data(f'../calculation_data/result_r=3_100_15_quasar_lss_all_CMB_smoothed_6_tree.npy', return_rp=True)\n",
    "dat_r = load_calculation_data(f'../calculation_data/result_r=3_100_15_random_quasar_lss_all_CMB_smoothed_6_tree.npy')"
   ]
  },
  {
   "cell_type": "code",
   "execution_count": 4,
   "metadata": {},
   "outputs": [],
   "source": [
    "Nside_jack = 10\n",
    "quasar_cata = np.load('../catalogue/quasar_lss_all.npy')\n",
    "random_sample = np.load('../catalogue/random_quasar_lss_all.npy')\n",
    "\n",
    "pix = jackknife_label(quasar_cata, Nside_jack)\n",
    "pix_r = jackknife_label(random_sample, Nside_jack)"
   ]
  },
  {
   "cell_type": "code",
   "execution_count": 12,
   "metadata": {},
   "outputs": [],
   "source": [
    "sampler_q = calculate_jackknife_variance_global(dat[0], dat[1], pix, dat_r[0], dat_r[1], pix_r, norm_cov=True, return_jackknife=True)"
   ]
  },
  {
   "cell_type": "code",
   "execution_count": 13,
   "metadata": {},
   "outputs": [],
   "source": [
    "jack_cross = sampler_q['jackknife'] / scale_factor"
   ]
  },
  {
   "cell_type": "code",
   "execution_count": 14,
   "metadata": {},
   "outputs": [
    {
     "data": {
      "text/plain": [
       "<matplotlib.colorbar.Colorbar at 0x1465307b9b50>"
      ]
     },
     "execution_count": 14,
     "metadata": {},
     "output_type": "execute_result"
    },
    {
     "data": {
      "image/png": "[encoded data removed]",
      "text/plain": [
       "<Figure size 640x480 with 2 Axes>"
      ]
     },
     "metadata": {},
     "output_type": "display_data"
    }
   ],
   "source": [
    "cov = np.cov(jack_cross, rowvar=False, ddof=0)\n",
    "cov *= (jack_cross.shape[0] - 1)\n",
    "std = np.sqrt([cov[i,i] for i in range(len(cov))])\n",
    "cov_normed = cov / (std.reshape((-1, 1)) @ std.reshape((1, -1)))\n",
    "plt.imshow(cov_normed, origin='lower', vmin=-1, vmax=1)\n",
    "plt.colorbar()"
   ]
  },
  {
   "cell_type": "markdown",
   "metadata": {},
   "source": [
    "## Auto Correlation"
   ]
  },
  {
   "cell_type": "code",
   "execution_count": 2,
   "metadata": {},
   "outputs": [],
   "source": [
    "from Corrfunc.mocks import DDrppi_mocks, DDtheta_mocks\n",
    "from Corrfunc.io import read_catalog\n",
    "from Corrfunc.theory import DDrppi, DD\n",
    "from my_util import convert_rp_pi_counts_to_wp\n",
    "import multiprocessing as mp\n",
    "from tqdm import tqdm"
   ]
  },
  {
   "cell_type": "code",
   "execution_count": 11,
   "metadata": {},
   "outputs": [],
   "source": [
    "Nbins = 15\n",
    "rp_min = 3\n",
    "rp_max = 100\n",
    "\n",
    "rp_bin_cross = np.geomspace(rp_min, rp_max, Nbins+1)\n",
    "r_p_cross = (rp_bin_cross[:-1]*rp_bin_cross[1:])**0.5\n",
    "\n",
    "sep = (np.log10(rp_max) - np.log10(rp_min)) / Nbins\n",
    "rp_bin_auto = 10**(np.arange(-10, Nbins+1)*sep + np.log10(rp_min))\n",
    "# rp_bin_auto = np.geomspace(rp_min, rp_max, Nbins+1)\n",
    "r_p_auto = (rp_bin_auto[:-1]*rp_bin_auto[1:])**0.5\n",
    "\n",
    "Nbins = len(rp_bin_auto) - 1"
   ]
  },
  {
   "cell_type": "code",
   "execution_count": 13,
   "metadata": {},
   "outputs": [],
   "source": [
    "Nd = len(quasar_cata)\n",
    "Nr = len(random_sample)\n",
    "dis_cov_q = cosmos.angular_diameter_distance(quasar_cata['z']).to(u.Mpc).value*(1+quasar_cata['z'])*h\n",
    "dis_cov_r = cosmos.angular_diameter_distance(random_sample['z']).to(u.Mpc).value*(1+random_sample['z'])*h\n",
    "\n",
    "z = 1.69\n",
    "h = cosmos.H0.to(u.km/u.s/u.Mpc).value / 100\n",
    "d_A = cosmos.angular_diameter_distance(z).to(u.Mpc).value\n",
    "chi_l = d_A*(1+z)\n",
    "\n",
    "pimax = 100\n",
    "\n",
    "npix = pix\n",
    "npix_r =  pix_r\n",
    "\n",
    "pix = np.unique(npix)\n",
    "def resample(p, sender):\n",
    "    sub_sample = npix != p\n",
    "    sub_sample_r = npix_r != p\n",
    "\n",
    "    quasar_sub = quasar_cata[sub_sample]\n",
    "    random_sub = random_sample[sub_sample_r]\n",
    "\n",
    "    dd = DDrppi_mocks(autocorr=True, cosmology=1, nthreads=50, pimax=pimax, binfile=rp_bin_auto,\n",
    "                   RA1=quasar_sub['ra'], DEC1=quasar_sub['dec'], CZ1=dis_cov_q[sub_sample], weights1=quasar_sub['w'], is_comoving_dist=True, weight_type='pair_product')\n",
    "    rr = DDrppi_mocks(autocorr=True, cosmology=1, nthreads=50, pimax=pimax, binfile=rp_bin_auto,\n",
    "                    RA1=random_sub['ra'], DEC1=random_sub['dec'], CZ1=dis_cov_r[sub_sample_r], weights1=random_sub['w'], is_comoving_dist=True, weight_type='pair_product')\n",
    "    dr = DDrppi_mocks(\n",
    "        autocorr=False, cosmology=1, nthreads=50, pimax=pimax, binfile=rp_bin_auto, \n",
    "        RA1=quasar_sub['ra'], DEC1=quasar_sub['dec'], CZ1=dis_cov_q[sub_sample], weights1=quasar_sub['w'], \n",
    "        RA2=random_sub['ra'], DEC2=random_sub['dec'], CZ2=dis_cov_r[sub_sample_r], weights2=random_sub['w'], \n",
    "        is_comoving_dist=True, weight_type='pair_product')\n",
    "\n",
    "    Nd = quasar_sub['w'].sum()\n",
    "    Nr = random_sub['w'].sum()\n",
    "    sender.send(1)\n",
    "    return convert_rp_pi_counts_to_wp(Nd, Nd, Nr, Nr, dd, dr, dr, rr, pimax=pimax, nrpbins=Nbins)\n",
    "\n",
    "def progress_bar(Ntotal, receiver, rate=10):\n",
    "    # rate is the update rate of the progress bar.\n",
    "    rate = max(1, int(rate))\n",
    "    with tqdm(total=int(Ntotal/rate)) as pbar:\n",
    "        count = 0\n",
    "        while True:\n",
    "            if receiver.recv():\n",
    "                count += 1\n",
    "                if count % rate == 0:\n",
    "                    pbar.update(1)\n",
    "            else:\n",
    "                break\n",
    "        pbar.close()\n"
   ]
  },
  {
   "cell_type": "code",
   "execution_count": 14,
   "metadata": {},
   "outputs": [
    {
     "name": "stderr",
     "output_type": "stream",
     "text": [
      "  0%|          | 0/228 [00:00<?, ?it/s]"
     ]
    },
    {
     "name": "stderr",
     "output_type": "stream",
     "text": [
      "100%|██████████| 228/228 [19:50<00:00,  5.22s/it]\n"
     ]
    }
   ],
   "source": [
    "from itertools import repeat\n",
    "\n",
    "sender, recv = mp.Pipe()\n",
    "\n",
    "pool = mp.Pool(5)\n",
    "\n",
    "bar = mp.Process(target=progress_bar, args=(len(pix), recv, 1))\n",
    "bar.start()\n",
    "jack_auto = np.vstack(list(pool.starmap(resample, zip(pix, repeat(sender)))))\n",
    "sender.send(0)\n",
    "bar.join()"
   ]
  },
  {
   "cell_type": "code",
   "execution_count": 15,
   "metadata": {},
   "outputs": [],
   "source": [
    "jackknife_all = np.concatenate((jack_cross, jack_auto), axis=1)\n",
    "cov = np.cov(jackknife_all, rowvar=False, ddof=0)\n",
    "cov *= (jackknife_all.shape[0] - 1)\n",
    "std = np.sqrt([cov[i,i] for i in range(len(cov))])\n",
    "cov_normed = cov / (std.reshape((-1, 1)) @ std.reshape((1, -1)))"
   ]
  },
  {
   "cell_type": "code",
   "execution_count": 16,
   "metadata": {},
   "outputs": [
    {
     "data": {
      "text/plain": [
       "<matplotlib.colorbar.Colorbar at 0x14fdbc28b770>"
      ]
     },
     "execution_count": 16,
     "metadata": {},
     "output_type": "execute_result"
    },
    {
     "data": {
      "image/png": "[encoded data removed]",
      "text/plain": [
       "<Figure size 640x480 with 2 Axes>"
      ]
     },
     "metadata": {},
     "output_type": "display_data"
    }
   ],
   "source": [
    "plt.imshow(cov_normed, origin='lower', vmin=-1, vmax=1)\n",
    "plt.colorbar()"
   ]
  },
  {
   "cell_type": "code",
   "execution_count": 17,
   "metadata": {},
   "outputs": [],
   "source": [
    "w_auto = jack_auto.mean(axis=0)\n",
    "w_cross = jack_cross.mean(axis=0)\n",
    "std_auto = std[len(w_cross):]\n",
    "std_cross = std[:len(w_cross)]"
   ]
  },
  {
   "cell_type": "code",
   "execution_count": 18,
   "metadata": {},
   "outputs": [],
   "source": [
    "with open('../mcmc/python/signal_sep_2/signal.npy', 'wb')  as f:\n",
    "    np.save(f, r_p_auto)\n",
    "    np.save(f, w_auto)\n",
    "    np.save(f, r_p_cross)\n",
    "    np.save(f, w_cross)\n",
    "np.save('../mcmc/python/signal_sep_2/cov', cov)"
   ]
  },
  {
   "cell_type": "code",
   "execution_count": 14,
   "metadata": {},
   "outputs": [],
   "source": [
    "with open('../mcmc/python/signal_sep_2/signal.npy', 'rb')  as f:\n",
    "    r_p_auto = np.load(f)\n",
    "    w_auto = np.load(f)\n",
    "    r_p_cross = np.load(f)\n",
    "    w_cross = np.load(f)\n",
    "cov = np.load('../mcmc/python/signal_sep_2/cov.npy')\n",
    "std = np.sqrt([cov[i,i] for i in range(len(cov))])\n",
    "std_auto = std[len(w_cross):]\n",
    "std_cross = std[:len(w_cross)]"
   ]
  },
  {
   "cell_type": "code",
   "execution_count": 15,
   "metadata": {},
   "outputs": [
    {
     "data": {
      "text/plain": [
       "array([ 25.11494875,   0.79280499, -23.95995444, -21.59007914,\n",
       "       -11.43257363,  64.70415733,  73.80073129,  53.76081218,\n",
       "        41.41074704,  38.20093619,  34.91942537,  29.1871684 ,\n",
       "        23.76701148,  19.2174472 ,  18.08313759,  12.32044246,\n",
       "        10.37868643,   8.31456452,   6.17713109,   4.21186066,\n",
       "         3.4362834 ,   2.24211873,   1.3950232 ,   1.15348501,\n",
       "         1.10786054])"
      ]
     },
     "execution_count": 15,
     "metadata": {},
     "output_type": "execute_result"
    }
   ],
   "source": [
    "w_auto"
   ]
  },
  {
   "cell_type": "code",
   "execution_count": 17,
   "metadata": {},
   "outputs": [],
   "source": [
    "import astropy.units as u\n",
    "from astropy.cosmology import Planck18 as cosmo"
   ]
  },
  {
   "cell_type": "code",
   "execution_count": 19,
   "metadata": {},
   "outputs": [],
   "source": [
    "z = 1.5\n",
    "ang = 55*u.arcsec"
   ]
  },
  {
   "cell_type": "code",
   "execution_count": 22,
   "metadata": {},
   "outputs": [
    {
     "data": {
      "text/latex": [
       "$0.83568362 \\; \\mathrm{Mpc}$"
      ],
      "text/plain": [
       "<Quantity 0.83568362 Mpc>"
      ]
     },
     "execution_count": 22,
     "metadata": {},
     "output_type": "execute_result"
    }
   ],
   "source": [
    "cosmo.angular_diameter_distance(z)*ang.to(u.rad).value*(1+z)*0.7"
   ]
  },
  {
   "cell_type": "code",
   "execution_count": 16,
   "metadata": {},
   "outputs": [
    {
     "data": {
      "text/plain": [
       "array([ 0.32556026,  0.41129803,  0.51961524,  0.65645828,  0.82933956,\n",
       "        1.04774991,  1.32367962,  1.67227667,  2.11267834,  2.6690618 ,\n",
       "        3.37197138,  4.25999539,  5.38188457,  6.79922837,  8.58983612,\n",
       "       10.85200857, 13.70993443, 17.32050808, 21.88194273, 27.64465197,\n",
       "       34.92499691, 44.12265385, 55.74255561, 70.4226114 , 88.96872671])"
      ]
     },
     "execution_count": 16,
     "metadata": {},
     "output_type": "execute_result"
    }
   ],
   "source": [
    "r_p_auto"
   ]
  },
  {
   "cell_type": "code",
   "execution_count": 8,
   "metadata": {},
   "outputs": [
    {
     "data": {
      "text/plain": [
       "[]"
      ]
     },
     "execution_count": 8,
     "metadata": {},
     "output_type": "execute_result"
    },
    {
     "data": {
      "image/png": "[encoded data removed]",
      "text/plain": [
       "<Figure size 640x480 with 1 Axes>"
      ]
     },
     "metadata": {},
     "output_type": "display_data"
    }
   ],
   "source": [
    "plt.errorbar(r_p_cross, w_cross, std_cross, capsize=2)\n",
    "plt.errorbar(r_p_auto, w_auto, std_auto, capsize=2)\n",
    "plt.xlabel(r'$r_p[h^{-1}\\mathrm{Mpc}]$')\n",
    "plt.ylabel('$w_p$')\n",
    "plt.loglog()"
   ]
  },
  {
   "cell_type": "code",
   "execution_count": 27,
   "metadata": {},
   "outputs": [
    {
     "data": {
      "text/plain": [
       "array([ 5.30653274e+00,  3.77475390e+00,  2.18818635e+00,  1.71133170e+00,\n",
       "        1.40864299e+00,  3.74103621e-01,  4.30138481e-01,  3.00147914e-01,\n",
       "       -6.63026922e-04, -1.91655703e-01])"
      ]
     },
     "execution_count": 27,
     "metadata": {},
     "output_type": "execute_result"
    }
   ],
   "source": [
    "w_cross[-10:]"
   ]
  },
  {
   "cell_type": "code",
   "execution_count": 28,
   "metadata": {},
   "outputs": [
    {
     "data": {
      "text/plain": [
       "array([12.32044246, 10.37868643,  8.31456452,  6.17713109,  4.21186066,\n",
       "        3.4362834 ,  2.24211873,  1.3950232 ,  1.15348501,  1.10786054])"
      ]
     },
     "execution_count": 28,
     "metadata": {},
     "output_type": "execute_result"
    }
   ],
   "source": [
    "w_auto[-10:]"
   ]
  },
  {
   "cell_type": "code",
   "execution_count": 27,
   "metadata": {},
   "outputs": [
    {
     "data": {
      "text/plain": [
       "21"
      ]
     },
     "execution_count": 27,
     "metadata": {},
     "output_type": "execute_result"
    }
   ],
   "source": [
    "len(rp_bin_auto)"
   ]
  }
 ],
 "metadata": {
  "kernelspec": {
   "display_name": "base",
   "language": "python",
   "name": "python3"
  },
  "language_info": {
   "codemirror_mode": {
    "name": "ipython",
    "version": 3
   },
   "file_extension": ".py",
   "mimetype": "text/x-python",
   "name": "python",
   "nbconvert_exporter": "python",
   "pygments_lexer": "ipython3",
   "version": "3.12.2"
  }
 },
 "nbformat": 4,
 "nbformat_minor": 2
}
