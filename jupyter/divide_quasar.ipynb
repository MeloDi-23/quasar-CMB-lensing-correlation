{
 "cells": [
  {
   "cell_type": "code",
   "execution_count": 1,
   "metadata": {},
   "outputs": [],
   "source": [
    "from astropy.io import fits\n",
    "import numpy as np\n",
    "import seaborn as sns"
   ]
  },
  {
   "cell_type": "code",
   "execution_count": 2,
   "metadata": {},
   "outputs": [],
   "source": [
    "quasar_cata = fits.getdata('/uufs/chpc.utah.edu/common/home/astro/zheng/hd/data/SDSS16Q/DR16Q_v4.fits')\n",
    "z = quasar_cata[quasar_cata['Z'] > 0]['Z'].astype(float)\n",
    "lower, middle, higher = np.percentile(z, [30, 50, 70])\n",
    "quasar_cata_cut = quasar_cata[np.logical_and(quasar_cata['Z']<higher, quasar_cata['Z']>lower)]"
   ]
  },
  {
   "cell_type": "code",
   "execution_count": 3,
   "metadata": {},
   "outputs": [],
   "source": [
    "quasar = np.zeros(len(quasar_cata_cut), dtype=[('ra', 'f8'), ('dec', 'f8'), ('z', 'f8'), ('w', 'f8')])\n",
    "quasar['ra'] = quasar_cata_cut['RA']\n",
    "quasar['dec'] = quasar_cata_cut['DEC']\n",
    "quasar['z'] = quasar_cata_cut['Z']\n",
    "quasar['w'] = 1\n",
    "np.save(f'../catalogue/quasar_narrow_z_cut', quasar)"
   ]
  },
  {
   "cell_type": "code",
   "execution_count": 3,
   "metadata": {},
   "outputs": [
    {
     "data": {
      "text/plain": [
       "(1.2855871438980102, 2.149649405479431)"
      ]
     },
     "execution_count": 3,
     "metadata": {},
     "output_type": "execute_result"
    }
   ],
   "source": [
    "lower, higher"
   ]
  },
  {
   "cell_type": "code",
   "execution_count": 7,
   "metadata": {},
   "outputs": [
    {
     "data": {
      "text/plain": [
       "<Axes: ylabel='Count'>"
      ]
     },
     "execution_count": 7,
     "metadata": {},
     "output_type": "execute_result"
    },
    {
     "data": {
      "image/png": "[encoded data removed]",
      "text/plain": [
       "<Figure size 640x480 with 1 Axes>"
      ]
     },
     "metadata": {},
     "output_type": "display_data"
    }
   ],
   "source": [
    "sns.histplot(quasar_cata_cut['M_I'].astype(float))"
   ]
  },
  {
   "cell_type": "code",
   "execution_count": 6,
   "metadata": {},
   "outputs": [],
   "source": [
    "middle = np.percentile(quasar_cata_cut['M_I'], 50)"
   ]
  },
  {
   "cell_type": "code",
   "execution_count": 8,
   "metadata": {},
   "outputs": [],
   "source": [
    "quasar_cata_luminosity = [\n",
    "    quasar_cata_cut[quasar_cata_cut['M_I']<=middle],\n",
    "    quasar_cata_cut[quasar_cata_cut['M_I']>middle]\n",
    "]"
   ]
  },
  {
   "cell_type": "code",
   "execution_count": 10,
   "metadata": {},
   "outputs": [],
   "source": [
    "name = ['high', 'low']\n",
    "for i in range(2):\n",
    "    quasar = np.zeros(len(quasar_cata_luminosity[i]), dtype=[('ra', 'f8'), ('dec', 'f8'), ('z', 'f8'), ('w', 'f8')])\n",
    "    quasar['ra'] = quasar_cata_luminosity[i]['RA']\n",
    "    quasar['dec'] = quasar_cata_luminosity[i]['DEC']\n",
    "    quasar['z'] = quasar_cata_luminosity[i]['Z']\n",
    "    quasar['w'] = 1\n",
    "    np.save(f'../catalogue/quasar_narrow_z_cut_{name[i]}', quasar)\n"
   ]
  },
  {
   "cell_type": "code",
   "execution_count": 11,
   "metadata": {},
   "outputs": [],
   "source": [
    "rand_theta, rand_phi, rand_z = np.load('../catalogue/random_sample_quasar.npy')"
   ]
  },
  {
   "cell_type": "code",
   "execution_count": 12,
   "metadata": {},
   "outputs": [],
   "source": [
    "from astropy import coordinates as coo, units as u"
   ]
  },
  {
   "cell_type": "code",
   "execution_count": 14,
   "metadata": {},
   "outputs": [],
   "source": [
    "rand = np.zeros(len(rand_phi), dtype=[('ra', 'f8'), ('dec', 'f8'), ('z', 'f8'), ('w', 'f8')])\n",
    "coord = coo.SkyCoord(l=rand_phi, b=np.pi/2-rand_theta, unit='rad', frame='galactic')"
   ]
  },
  {
   "cell_type": "code",
   "execution_count": 19,
   "metadata": {},
   "outputs": [],
   "source": [
    "rand['ra'] = coord.icrs.ra.to(u.deg).value\n",
    "rand['dec'] = coord.icrs.dec.to(u.deg).value\n",
    "rand['z'] = rand_z\n",
    "rand['w'] = 1"
   ]
  },
  {
   "cell_type": "code",
   "execution_count": 24,
   "metadata": {},
   "outputs": [],
   "source": [
    "np.save('../catalogue/random_sample_quasar.npy', rand)"
   ]
  },
  {
   "cell_type": "code",
   "execution_count": 26,
   "metadata": {},
   "outputs": [],
   "source": [
    "rand_cut = rand[np.logical_and(rand['z']<higher, rand['z']>lower)]"
   ]
  },
  {
   "cell_type": "code",
   "execution_count": 28,
   "metadata": {},
   "outputs": [],
   "source": [
    "np.save('../catalogue/random_sample_quasar_narrow_z_cut.npy', rand_cut)"
   ]
  },
  {
   "cell_type": "code",
   "execution_count": null,
   "metadata": {},
   "outputs": [],
   "source": []
  }
 ],
 "metadata": {
  "kernelspec": {
   "display_name": "base",
   "language": "python",
   "name": "python3"
  },
  "language_info": {
   "codemirror_mode": {
    "name": "ipython",
    "version": 3
   },
   "file_extension": ".py",
   "mimetype": "text/x-python",
   "name": "python",
   "nbconvert_exporter": "python",
   "pygments_lexer": "ipython3",
   "version": "3.12.2"
  }
 },
 "nbformat": 4,
 "nbformat_minor": 2
}
