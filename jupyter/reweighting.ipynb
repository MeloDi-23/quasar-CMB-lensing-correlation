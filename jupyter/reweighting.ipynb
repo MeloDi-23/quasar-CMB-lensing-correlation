{
 "cells": [
  {
   "cell_type": "markdown",
   "metadata": {},
   "source": [
    "# This is used to reweight the quasar catalogue using DESI code."
   ]
  },
  {
   "cell_type": "code",
   "execution_count": 1,
   "metadata": {},
   "outputs": [],
   "source": [
    "import numpy as np\n",
    "import matplotlib.pyplot as plt\n",
    "from astropy.cosmology import Planck18 as cosmos\n",
    "h = cosmos.H0.value/100\n",
    "from astropy.io import fits\n",
    "import healpy as hp\n",
    "import seaborn as sns\n",
    "from imsys_fitter import Syst"
   ]
  },
  {
   "cell_type": "code",
   "execution_count": 17,
   "metadata": {},
   "outputs": [],
   "source": [
    "# data = fits.getdata('/uufs/chpc.utah.edu/common/home/astro/zheng/hd/data/SDSS_eBOSS_weight_maps/SDSS_WISE_imageprop_nside512.fits')\n",
    "maps = fits.getdata('/uufs/chpc.utah.edu/common/home/astro/zheng/hd/data/SDSS_eBOSS_weight_maps/SDSSimageprop_Nside512.fits')\n",
    "random_n = fits.getdata('/uufs/chpc.utah.edu/common/home/astro/zheng/hd/data/SDSS16Q/eBOSS_QSO_clustering_random-NGC-vDR16.fits')\n",
    "random_s = fits.getdata('/uufs/chpc.utah.edu/common/home/astro/zheng/hd/data/SDSS16Q/eBOSS_QSO_clustering_random-SGC-vDR16.fits')\n",
    "quasar_n = fits.getdata('/uufs/chpc.utah.edu/common/home/astro/zheng/hd/data/SDSS16Q/eBOSS_QSO_clustering_data-NGC-vDR16.fits')\n",
    "quasar_s = fits.getdata('/uufs/chpc.utah.edu/common/home/astro/zheng/hd/data/SDSS16Q/eBOSS_QSO_clustering_data-SGC-vDR16.fits')"
   ]
  },
  {
   "cell_type": "code",
   "execution_count": 4,
   "metadata": {},
   "outputs": [
    {
     "name": "stdout",
     "output_type": "stream",
     "text": [
      "scale: 6.870972823634812 arcmin\n"
     ]
    }
   ],
   "source": [
    "Nside = 512\n",
    "Npix = hp.nside2npix(Nside)\n",
    "print(f'scale: {hp.nside2resol(Nside, True)} arcmin')"
   ]
  },
  {
   "cell_type": "code",
   "execution_count": 20,
   "metadata": {},
   "outputs": [],
   "source": [
    "Rg = 3.793                                      # from 2002AJ....123..485S table 22\n",
    "def get_property_map(ra, dec):\n",
    "    pix = hp.ang2pix(Nside, np.deg2rad(90 - dec), np.deg2rad(ra))\n",
    "    data = {}\n",
    "    data['EBV'] = maps['EBV'][pix]\n",
    "    data['DEPTH_G'] = 22.5 - 2.5*np.log10(maps['DEPTH_G'][pix]) - Rg*data['EBV']\n",
    "    data['SKY_I'] = maps['SKY_I'][pix]\n",
    "    data['PSF_I'] = maps['PSF_I'][pix]\n",
    "    return data"
   ]
  },
  {
   "cell_type": "code",
   "execution_count": 22,
   "metadata": {},
   "outputs": [],
   "source": [
    "def reweight(quasar_cata, random_cata):\n",
    "    data_q = get_property_map(quasar_cata['RA'], quasar_cata['DEC'])\n",
    "    data_r = get_property_map(random_cata['RA'], random_cata['DEC'])\n",
    "\n",
    "    analyzer = Syst(quasar_cata['WEIGHT_FKP']*quasar_cata['WEIGHT_CP']*quasar_cata['WEIGHT_NOZ'], random_cata['WEIGHT_FKP'])\n",
    "    for k in data_q.keys():\n",
    "        analyzer.add_syst(k, data_q[k], data_r[k])\n",
    "    analyzer.cut_outliers(p=1)\n",
    "    analyzer.prepare()\n",
    "    analyzer.fit_minuit()\n",
    "    result = dict(zip(analyzer.par_names, analyzer.best_pars))\n",
    "    weight_model = 1/analyzer.get_model(result, data_q)\n",
    "    return weight_model"
   ]
  },
  {
   "cell_type": "code",
   "execution_count": null,
   "metadata": {},
   "outputs": [],
   "source": [
    "def refine_catalogue(quasar):\n",
    "    quasar_cata = np.zeros(len(quasar), dtype=[('ra', 'f8'), ('dec', 'f8'), ('z', 'f8'), ('w', 'f8')])\n",
    "    quasar_cata['ra'] = quasar['RA']\n",
    "    quasar_cata['dec'] = quasar['DEC']\n",
    "    quasar_cata['z'] = quasar['Z']\n",
    "    quasar_cata['w'] = quasar['WEIGHT_SYSTOT']*quasar['WEIGHT_NOZ']*quasar['WEIGHT_CP']*quasar_cata['WEIGHT_FKP']\n",
    "    return quasar_cata"
   ]
  },
  {
   "cell_type": "code",
   "execution_count": 26,
   "metadata": {},
   "outputs": [
    {
     "name": "stdout",
     "output_type": "stream",
     "text": [
      "(0.0, 0, 0, 0, 0)\n",
      "Maps available for chi2:\n",
      "['EBV', 'DEPTH_G', 'SKY_I', 'PSF_I']\n",
      "Fitting for:\n",
      "['constant', 'EBV', 'DEPTH_G', 'SKY_I', 'PSF_I']\n",
      "chi2 (before fit) = 646.54   ndata = 40                rchi2 = 16.1634\n",
      "chi2 (after  fit) = 73.86   ndata = 40   npars = 5   rchi2 = 2.1104\n",
      "(0.0, 0, 0, 0, 0)\n",
      "Maps available for chi2:\n",
      "['EBV', 'DEPTH_G', 'SKY_I', 'PSF_I']\n",
      "Fitting for:\n",
      "['constant', 'EBV', 'DEPTH_G', 'SKY_I', 'PSF_I']\n",
      "chi2 (before fit) = 1505.26   ndata = 40                rchi2 = 37.6314\n",
      "chi2 (after  fit) = 24.87   ndata = 40   npars = 5   rchi2 = 0.7106\n"
     ]
    }
   ],
   "source": [
    "quasar_n['WEIGHT_SYSTOT'] = reweight(quasar_n, random_n)\n",
    "quasar_s['WEIGHT_SYSTOT'] = reweight(quasar_s, random_s)\n",
    "quasar_all = np.hstack((quasar_n, quasar_s))"
   ]
  },
  {
   "cell_type": "code",
   "execution_count": 27,
   "metadata": {},
   "outputs": [],
   "source": [
    "np.save('../catalogue/quasar_lss_reweight', refine_catalogue(quasar_all))"
   ]
  },
  {
   "cell_type": "code",
   "execution_count": 28,
   "metadata": {},
   "outputs": [],
   "source": [
    "q1 = np.load('../catalogue/quasar_lss_all.npy')\n",
    "q2 = np.load('../catalogue/quasar_lss_reweight.npy')"
   ]
  },
  {
   "cell_type": "code",
   "execution_count": 29,
   "metadata": {},
   "outputs": [
    {
     "data": {
      "text/plain": [
       "<matplotlib.collections.PathCollection at 0x14a88a689a30>"
      ]
     },
     "execution_count": 29,
     "metadata": {},
     "output_type": "execute_result"
    },
    {
     "data": {
      "image/png": "[encoded data removed]",
      "text/plain": [
       "<Figure size 640x480 with 1 Axes>"
      ]
     },
     "metadata": {},
     "output_type": "display_data"
    }
   ],
   "source": [
    "plt.scatter(q1['w'], q2['w'])"
   ]
  },
  {
   "cell_type": "code",
   "execution_count": null,
   "metadata": {},
   "outputs": [],
   "source": []
  }
 ],
 "metadata": {
  "kernelspec": {
   "display_name": "base",
   "language": "python",
   "name": "python3"
  },
  "language_info": {
   "codemirror_mode": {
    "name": "ipython",
    "version": 3
   },
   "file_extension": ".py",
   "mimetype": "text/x-python",
   "name": "python",
   "nbconvert_exporter": "python",
   "pygments_lexer": "ipython3",
   "version": "3.12.2"
  }
 },
 "nbformat": 4,
 "nbformat_minor": 2
}
