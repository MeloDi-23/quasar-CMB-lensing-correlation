{
 "cells": [
  {
   "cell_type": "code",
   "execution_count": 6,
   "metadata": {},
   "outputs": [],
   "source": [
    "from astropy.io import fits\n",
    "import matplotlib.pyplot as plt\n",
    "import healpy as hp\n",
    "import numpy as np"
   ]
  },
  {
   "cell_type": "code",
   "execution_count": 3,
   "metadata": {},
   "outputs": [],
   "source": [
    "lowz_n = fits.getdata('/uufs/astro.utah.edu/common/home/u6060319/quasar-CMBlening/data/SDSSDR12/lowz/galaxy_DR12v5_LOWZ_North.fits')\n",
    "lowz_s = fits.getdata('/uufs/astro.utah.edu/common/home/u6060319/quasar-CMBlening/data/SDSSDR12/lowz/galaxy_DR12v5_LOWZ_South.fits')"
   ]
  },
  {
   "cell_type": "code",
   "execution_count": 9,
   "metadata": {},
   "outputs": [],
   "source": [
    "lowz = np.hstack((lowz_n, lowz_s))"
   ]
  },
  {
   "cell_type": "code",
   "execution_count": 13,
   "metadata": {},
   "outputs": [],
   "source": [
    "lowz_cut = lowz[np.logical_and(lowz['Z']>0.16, lowz['Z']<0.36)]"
   ]
  },
  {
   "cell_type": "code",
   "execution_count": 15,
   "metadata": {},
   "outputs": [],
   "source": [
    "ar = np.zeros(len(lowz_cut['RA']), dtype=[('ra', 'f8'), ('dec', 'f8'), ('z', 'f8'), ('w', 'f8')])\n",
    "ar['ra'] = lowz_cut['RA']\n",
    "ar['dec'] = lowz_cut['DEC']\n",
    "ar['z'] = lowz_cut['Z']\n",
    "ar['w'] = lowz_cut['WEIGHT_CP']+lowz_cut['WEIGHT_NOZ']-1\n",
    "np.save('../catalogue/lowz_cut.npy', ar)"
   ]
  },
  {
   "cell_type": "code",
   "execution_count": 17,
   "metadata": {},
   "outputs": [],
   "source": [
    "random_n = fits.getdata('/uufs/astro.utah.edu/common/home/u6060319/quasar-CMBlening/data/SDSSDR12/lowz/random0_DR12v5_LOWZ_North.fits')\n",
    "random_s = fits.getdata('/uufs/astro.utah.edu/common/home/u6060319/quasar-CMBlening/data/SDSSDR12/lowz/random0_DR12v5_LOWZ_South.fits')\n",
    "random = np.hstack((random_n, random_s))"
   ]
  },
  {
   "cell_type": "code",
   "execution_count": 21,
   "metadata": {},
   "outputs": [],
   "source": [
    "random_z_cut = random[np.logical_and(random['Z']>0.16, random['Z']<0.36)]\n",
    "idx = np.random.choice(len(random_z_cut), 3_000_000, replace=False)\n",
    "random_z_cut = random_z_cut[idx]\n",
    "ar = np.zeros(len(random_z_cut['RA']), dtype=[('ra', 'f8'), ('dec', 'f8'), ('z', 'f8'), ('w', 'f8')])\n",
    "ar['ra'] = random_z_cut['RA']\n",
    "ar['dec'] = random_z_cut['DEC']\n",
    "ar['z'] = random_z_cut['Z']\n",
    "ar['w'] = np.ones_like(random_z_cut['Z'])\n",
    "np.save('../catalogue/lowz_random.npy', ar)"
   ]
  },
  {
   "cell_type": "code",
   "execution_count": null,
   "metadata": {},
   "outputs": [],
   "source": []
  }
 ],
 "metadata": {
  "kernelspec": {
   "display_name": "Python 3",
   "language": "python",
   "name": "python3"
  },
  "language_info": {
   "codemirror_mode": {
    "name": "ipython",
    "version": 3
   },
   "file_extension": ".py",
   "mimetype": "text/x-python",
   "name": "python",
   "nbconvert_exporter": "python",
   "pygments_lexer": "ipython3",
   "version": "3.9.6"
  }
 },
 "nbformat": 4,
 "nbformat_minor": 2
}
