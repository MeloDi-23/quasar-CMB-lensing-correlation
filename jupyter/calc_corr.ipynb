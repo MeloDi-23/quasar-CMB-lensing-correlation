{
 "cells": [
  {
   "cell_type": "code",
   "execution_count": 1,
   "id": "cfe1807c",
   "metadata": {},
   "outputs": [],
   "source": [
    "from astropy.io import fits\n",
    "quasar_cata = fits.getdata('/uufs/astro.utah.edu/common/home/u6060319/quasar-CMBlening/data/SDSS16Q/DR16Q_v4.fits')"
   ]
  },
  {
   "cell_type": "code",
   "execution_count": 2,
   "id": "eecc17a8",
   "metadata": {},
   "outputs": [],
   "source": [
    "import astropy.coordinates as coo\n",
    "import astropy.units as u"
   ]
  },
  {
   "cell_type": "code",
   "execution_count": 3,
   "id": "fba32310",
   "metadata": {},
   "outputs": [],
   "source": [
    "c = coo.SkyCoord(ra=quasar_cata['RA']*u.degree, dec=quasar_cata['DEC']*u.degree)"
   ]
  },
  {
   "cell_type": "code",
   "execution_count": 11,
   "id": "9f092f31",
   "metadata": {},
   "outputs": [
    {
     "data": {
      "text/plain": [
       "359.99924790038665"
      ]
     },
     "execution_count": 11,
     "metadata": {},
     "output_type": "execute_result"
    }
   ],
   "source": [
    "c.galactic.l.to(u.degree).value.max()"
   ]
  },
  {
   "cell_type": "code",
   "execution_count": 13,
   "id": "21b13ab1",
   "metadata": {},
   "outputs": [
    {
     "data": {
      "text/plain": [
       "89.97336844550946"
      ]
     },
     "execution_count": 13,
     "metadata": {},
     "output_type": "execute_result"
    }
   ],
   "source": [
    "c.galactic.b.to(u.degree).value.max()"
   ]
  },
  {
   "cell_type": "code",
   "execution_count": null,
   "id": "a847926a",
   "metadata": {},
   "outputs": [],
   "source": []
  },
  {
   "cell_type": "code",
   "execution_count": 3,
   "id": "34f618c0",
   "metadata": {},
   "outputs": [],
   "source": [
    "import healpy as hp\n",
    "import matplotlib.pyplot as plt\n",
    "import numpy as np"
   ]
  },
  {
   "cell_type": "code",
   "execution_count": 4,
   "id": "6bad5075",
   "metadata": {},
   "outputs": [],
   "source": [
    "mask = hp.read_map('/uufs/astro.utah.edu/common/home/u6060319/quasar-CMBlening/data/Planck/mask/mask.fits')\n",
    "dat = hp.read_alm('/uufs/astro.utah.edu/common/home/u6060319/quasar-CMBlening/data/Planck/MV/dat_klm.fits')\n",
    "\n",
    "image = hp.sphtfunc.alm2map(dat, nside=2048, pol=False)\n",
    "image_masked = hp.ma(image)\n",
    "image_masked.mask = np.logical_not(mask)"
   ]
  },
  {
   "cell_type": "code",
   "execution_count": 5,
   "id": "599b8c72",
   "metadata": {},
   "outputs": [],
   "source": [
    "pos = hp.ang2vec(theta=np.deg2rad(90-dec), phi=np.deg2rad(ra))"
   ]
  },
  {
   "cell_type": "code",
   "execution_count": 6,
   "id": "1af3e6ed",
   "metadata": {},
   "outputs": [],
   "source": [
    "size = pos.shape[0]\n",
    "values = np.zeros(size)\n",
    "weight = np.zeros(size)\n",
    "\n",
    "for i in range(size):\n",
    "    idx = hp.query_disc(nside=2048, vec=pos[i], radius=np.radians(1))\n",
    "    choose = image_masked[idx]    \n",
    "    value = choose[np.logical_not(choose.mask)].data\n",
    "    values[i] = value.sum()\n",
    "    weight[i] = len(value)"
   ]
  },
  {
   "cell_type": "code",
   "execution_count": 7,
   "id": "96c87bad",
   "metadata": {},
   "outputs": [],
   "source": [
    "pos = hp.ang2vec(theta=np.deg2rad(90-quasar_cata['DEC']), phi=np.deg2rad(quasar_cata['RA']))"
   ]
  },
  {
   "cell_type": "markdown",
   "id": "88b0ef8c",
   "metadata": {},
   "source": [
    "There are about 65% of overlapping."
   ]
  },
  {
   "cell_type": "code",
   "execution_count": 41,
   "id": "83fbcde6",
   "metadata": {},
   "outputs": [
    {
     "name": "stderr",
     "output_type": "stream",
     "text": [
      "100%|██████████| 750414/750414 [00:55<00:00, 13420.53it/s]\n"
     ]
    }
   ],
   "source": [
    "import tqdm\n",
    "size = pos.shape[0]\n",
    "count = 0\n",
    "for i in tqdm.trange(size):\n",
    "    idx = hp.query_disc(nside=2048, vec=pos[i], radius=np.radians(1))\n",
    "    choose = image_masked[idx]\n",
    "    if not choose.mask.all():\n",
    "        count += 1\n"
   ]
  },
  {
   "cell_type": "code",
   "execution_count": 42,
   "id": "d7580729",
   "metadata": {},
   "outputs": [
    {
     "data": {
      "text/plain": [
       "488359"
      ]
     },
     "execution_count": 42,
     "metadata": {},
     "output_type": "execute_result"
    }
   ],
   "source": [
    "count"
   ]
  },
  {
   "cell_type": "code",
   "execution_count": 43,
   "id": "3ac0625a",
   "metadata": {},
   "outputs": [
    {
     "data": {
      "text/plain": [
       "0.6507860994064609"
      ]
     },
     "execution_count": 43,
     "metadata": {},
     "output_type": "execute_result"
    }
   ],
   "source": [
    "count / len(quasar_cata)"
   ]
  },
  {
   "cell_type": "code",
   "execution_count": 5,
   "id": "78cba1a7",
   "metadata": {},
   "outputs": [],
   "source": [
    "theta_bins = np.linspace(0, 120, 10)/60             # degree"
   ]
  },
  {
   "cell_type": "code",
   "execution_count": 7,
   "id": "2da79d0d",
   "metadata": {},
   "outputs": [],
   "source": [
    "size = len(pos)"
   ]
  },
  {
   "cell_type": "code",
   "execution_count": 9,
   "id": "7e820565",
   "metadata": {},
   "outputs": [
    {
     "name": "stderr",
     "output_type": "stream",
     "text": [
      "  0%|          | 751/750414 [00:22<6:12:35, 33.53it/s]\n"
     ]
    },
    {
     "ename": "KeyboardInterrupt",
     "evalue": "",
     "output_type": "error",
     "traceback": [
      "\u001b[0;31m---------------------------------------------------------------------------\u001b[0m",
      "\u001b[0;31mKeyboardInterrupt\u001b[0m                         Traceback (most recent call last)",
      "\u001b[0;32m/scratch/local/u6060319/1421044/ipykernel_2673772/406718399.py\u001b[0m in \u001b[0;36m<module>\u001b[0;34m\u001b[0m\n\u001b[1;32m     10\u001b[0m         \u001b[0midx\u001b[0m\u001b[0;34m[\u001b[0m\u001b[0midx_out\u001b[0m\u001b[0;34m]\u001b[0m \u001b[0;34m=\u001b[0m \u001b[0;32mTrue\u001b[0m\u001b[0;34m\u001b[0m\u001b[0;34m\u001b[0m\u001b[0m\n\u001b[1;32m     11\u001b[0m         \u001b[0midx\u001b[0m\u001b[0;34m[\u001b[0m\u001b[0midx_in\u001b[0m\u001b[0;34m]\u001b[0m \u001b[0;34m=\u001b[0m \u001b[0;32mFalse\u001b[0m\u001b[0;34m\u001b[0m\u001b[0;34m\u001b[0m\u001b[0m\n\u001b[0;32m---> 12\u001b[0;31m         \u001b[0mchoose\u001b[0m \u001b[0;34m=\u001b[0m \u001b[0mimage_masked\u001b[0m\u001b[0;34m[\u001b[0m\u001b[0midx\u001b[0m\u001b[0;34m]\u001b[0m\u001b[0;34m\u001b[0m\u001b[0;34m\u001b[0m\u001b[0m\n\u001b[0m\u001b[1;32m     13\u001b[0m         \u001b[0mvalue\u001b[0m \u001b[0;34m=\u001b[0m \u001b[0mchoose\u001b[0m\u001b[0;34m[\u001b[0m\u001b[0mnp\u001b[0m\u001b[0;34m.\u001b[0m\u001b[0mlogical_not\u001b[0m\u001b[0;34m(\u001b[0m\u001b[0mchoose\u001b[0m\u001b[0;34m.\u001b[0m\u001b[0mmask\u001b[0m\u001b[0;34m)\u001b[0m\u001b[0;34m]\u001b[0m\u001b[0;34m.\u001b[0m\u001b[0mdata\u001b[0m\u001b[0;34m\u001b[0m\u001b[0;34m\u001b[0m\u001b[0m\n\u001b[1;32m     14\u001b[0m         \u001b[0mvalues\u001b[0m\u001b[0;34m[\u001b[0m\u001b[0mi\u001b[0m\u001b[0;34m,\u001b[0m\u001b[0mj\u001b[0m\u001b[0;34m]\u001b[0m \u001b[0;34m=\u001b[0m \u001b[0mvalue\u001b[0m\u001b[0;34m.\u001b[0m\u001b[0mmean\u001b[0m\u001b[0;34m(\u001b[0m\u001b[0;34m)\u001b[0m\u001b[0;34m\u001b[0m\u001b[0;34m\u001b[0m\u001b[0m\n",
      "\u001b[0;32m/uufs/chpc.utah.edu/common/home/sdss50/software/pkg/miniconda/3.9/lib/python3.9/site-packages/numpy/ma/core.py\u001b[0m in \u001b[0;36m__getitem__\u001b[0;34m(self, indx)\u001b[0m\n\u001b[1;32m   3254\u001b[0m             \u001b[0;31m# _mask cannot be a subclass, so it tells us whether we should\u001b[0m\u001b[0;34m\u001b[0m\u001b[0;34m\u001b[0m\u001b[0;34m\u001b[0m\u001b[0m\n\u001b[1;32m   3255\u001b[0m             \u001b[0;31m# expect a scalar. It also cannot be of dtype object.\u001b[0m\u001b[0;34m\u001b[0m\u001b[0;34m\u001b[0m\u001b[0;34m\u001b[0m\u001b[0m\n\u001b[0;32m-> 3256\u001b[0;31m             \u001b[0mmout\u001b[0m \u001b[0;34m=\u001b[0m \u001b[0m_mask\u001b[0m\u001b[0;34m[\u001b[0m\u001b[0mindx\u001b[0m\u001b[0;34m]\u001b[0m\u001b[0;34m\u001b[0m\u001b[0;34m\u001b[0m\u001b[0m\n\u001b[0m\u001b[1;32m   3257\u001b[0m             \u001b[0mscalar_expected\u001b[0m \u001b[0;34m=\u001b[0m \u001b[0m_is_scalar\u001b[0m\u001b[0;34m(\u001b[0m\u001b[0mmout\u001b[0m\u001b[0;34m)\u001b[0m\u001b[0;34m\u001b[0m\u001b[0;34m\u001b[0m\u001b[0m\n\u001b[1;32m   3258\u001b[0m \u001b[0;34m\u001b[0m\u001b[0m\n",
      "\u001b[0;31mKeyboardInterrupt\u001b[0m: "
     ]
    }
   ],
   "source": [
    "import tqdm\n",
    "values = np.zeros((len(theta_bins-1), size))\n",
    "weight = np.zeros((len(theta_bins-1), size))\n",
    "for i in range(len(theta_bins-1)):\n",
    "    theta_range = theta_bins[i], theta_bins[i+1]\n",
    "    for j in tqdm.trange(size):\n",
    "        idx_in = hp.query_disc(nside=2048, vec=pos[i], radius=np.radians(theta_range[0]))\n",
    "        idx_out = hp.query_disc(nside=2048, vec=pos[i], radius=np.radians(theta_range[1]))\n",
    "        idx = np.zeros(len(image_masked), bool)\n",
    "        idx[idx_out] = True\n",
    "        idx[idx_in] = False\n",
    "        choose = image_masked[idx]\n",
    "        value = choose[np.logical_not(choose.mask)].data\n",
    "        values[i,j] = value.mean()\n",
    "        weight[i,j] = len(value)\n"
   ]
  },
  {
   "cell_type": "markdown",
   "id": "ef58719f",
   "metadata": {},
   "source": [
    "multi-processing"
   ]
  },
  {
   "cell_type": "code",
   "execution_count": 8,
   "id": "06aad20f",
   "metadata": {},
   "outputs": [
    {
     "data": {
      "text/latex": [
       "$[1,~2,~3,~4,~5,~6,~7,~8,~9,~10] \\; \\mathrm{{}^{\\prime\\prime}}$"
      ],
      "text/plain": [
       "<Quantity [ 1.,  2.,  3.,  4.,  5.,  6.,  7.,  8.,  9., 10.] arcsec>"
      ]
     },
     "execution_count": 8,
     "metadata": {},
     "output_type": "execute_result"
    }
   ],
   "source": [
    "from astropy import units as u\n",
    "np.linspace(1, 10, 10)*u.arcsec"
   ]
  },
  {
   "cell_type": "code",
   "execution_count": 9,
   "id": "e64ffba1",
   "metadata": {},
   "outputs": [
    {
     "data": {
      "text/plain": [
       "array([0.00027778, 0.00055556, 0.00083333, 0.00111111, 0.00138889,\n",
       "       0.00166667, 0.00194444, 0.00222222, 0.0025    , 0.00277778])"
      ]
     },
     "execution_count": 9,
     "metadata": {},
     "output_type": "execute_result"
    }
   ],
   "source": [
    "(np.linspace(1, 10, 10)*u.arcsec).to(u.degree).value"
   ]
  },
  {
   "cell_type": "code",
   "execution_count": 11,
   "id": "1b74a69e",
   "metadata": {},
   "outputs": [],
   "source": [
    "from multiprocessing import Pool\n",
    "from tqdm import tqdm\n",
    "import time"
   ]
  },
  {
   "cell_type": "code",
   "execution_count": 34,
   "id": "64075700",
   "metadata": {},
   "outputs": [],
   "source": [
    "mypool = Pool(10)\n",
    "def func(i):\n",
    "    time.sleep(0.5)\n",
    "    return i\n"
   ]
  },
  {
   "cell_type": "code",
   "execution_count": 43,
   "id": "269d1f39",
   "metadata": {},
   "outputs": [
    {
     "name": "stderr",
     "output_type": "stream",
     "text": [
      "100%|██████████| 10/10 [00:00<00:00, 19.92it/s]\n"
     ]
    },
    {
     "data": {
      "text/plain": [
       "[0, 1, 2, 3, 4, 5, 6, 7, 8, 9]"
      ]
     },
     "execution_count": 43,
     "metadata": {},
     "output_type": "execute_result"
    }
   ],
   "source": [
    "list(tqdm(mypool.imap(func, range(10), chunksize=1), total=10))"
   ]
  },
  {
   "cell_type": "code",
   "execution_count": 46,
   "id": "f5df4a04",
   "metadata": {},
   "outputs": [
    {
     "data": {
      "text/plain": [
       "(array([6.660e+02, 2.789e+03, 3.311e+03, 2.345e+03, 7.240e+02, 1.410e+02,\n",
       "        1.100e+01, 8.000e+00, 2.000e+00, 3.000e+00]),\n",
       " array([0.074     , 0.72550069, 1.37700138, 2.02850207, 2.68000276,\n",
       "        3.33150345, 3.98300414, 4.63450483, 5.28600552, 5.93750621,\n",
       "        6.5890069 ]),\n",
       " <BarContainer object of 10 artists>)"
      ]
     },
     "execution_count": 46,
     "metadata": {},
     "output_type": "execute_result"
    },
    {
     "data": {
      "image/png": "[encoded data removed]",
      "text/plain": [
       "<Figure size 432x288 with 1 Axes>"
      ]
     },
     "metadata": {
      "needs_background": "light"
     },
     "output_type": "display_data"
    }
   ],
   "source": [
    "plt.hist(data['Z'])"
   ]
  },
  {
   "cell_type": "code",
   "execution_count": 5,
   "id": "ab7822d8",
   "metadata": {},
   "outputs": [],
   "source": [
    "import multiprocessing as mp\n",
    "import tqdm\n",
    "import time"
   ]
  },
  {
   "cell_type": "code",
   "execution_count": 25,
   "id": "2549bbb9",
   "metadata": {},
   "outputs": [],
   "source": [
    "def progress_bar(receiver):\n",
    "    # while True:\n",
    "    #     msg = receiver.recv()\n",
    "    #     print(msg)\n",
    "    pbar = tqdm.tqdm(total=12)\n",
    "    while True:\n",
    "        msg = receiver.recv()\n",
    "        if msg:\n",
    "            pbar.update(1)\n",
    "        else:\n",
    "            pbar.close()\n",
    "            break    "
   ]
  },
  {
   "cell_type": "code",
   "execution_count": 26,
   "id": "e73f4371",
   "metadata": {},
   "outputs": [
    {
     "name": "stderr",
     "output_type": "stream",
     "text": [
      "  0%|          | 0/12 [00:00<?, ?it/s]"
     ]
    },
    {
     "name": "stderr",
     "output_type": "stream",
     "text": [
      " 83%|████████▎ | 10/12 [00:03<00:00,  3.33it/s]\n"
     ]
    }
   ],
   "source": [
    "send, receive = mp.Pipe()\n",
    "p = mp.Process(target=progress_bar, args=(receive,))\n",
    "p.start()\n",
    "for i in range(10):\n",
    "    time.sleep(0.3)\n",
    "    send.send(1)\n",
    "send.send(0)\n",
    "p.join()"
   ]
  },
  {
   "cell_type": "code",
   "execution_count": null,
   "id": "af3fb1a5",
   "metadata": {},
   "outputs": [],
   "source": []
  }
 ],
 "metadata": {
  "kernelspec": {
   "display_name": "Python 3 (ipykernel)",
   "language": "python",
   "name": "python3"
  },
  "language_info": {
   "codemirror_mode": {
    "name": "ipython",
    "version": 3
   },
   "file_extension": ".py",
   "mimetype": "text/x-python",
   "name": "python",
   "nbconvert_exporter": "python",
   "pygments_lexer": "ipython3",
   "version": "3.9.6"
  }
 },
 "nbformat": 4,
 "nbformat_minor": 5
}
