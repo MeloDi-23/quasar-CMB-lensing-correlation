{
 "cells": [
  {
   "cell_type": "code",
   "execution_count": 8,
   "metadata": {},
   "outputs": [],
   "source": [
    "import numpy as np\n",
    "import matplotlib.pyplot as plt\n",
    "from astropy.io import fits\n",
    "from sklearn.neighbors import KDTree\n"
   ]
  },
  {
   "cell_type": "code",
   "execution_count": 2,
   "metadata": {},
   "outputs": [],
   "source": [
    "quasar_all = np.load('../catalogue/quasar_lss_all.npy')\n",
    "quasar_high = np.load('../catalogue/quasar_lss_high_L.npy')\n",
    "quasar_low = np.load('../catalogue/quasar_lss_low_L.npy')"
   ]
  },
  {
   "cell_type": "code",
   "execution_count": 4,
   "metadata": {},
   "outputs": [],
   "source": [
    "quasar_zbin = [np.load(f'../catalogue/quasar_lss_z{i}.npy') for i in range(1, 4)]"
   ]
  },
  {
   "cell_type": "code",
   "execution_count": 10,
   "metadata": {},
   "outputs": [],
   "source": [
    "quasar_SDSS = fits.getdata('/uufs/chpc.utah.edu/common/home/astro/zheng/hd/data/SDSS16Q/DR16Q_v4.fits')\n",
    "tree = KDTree(np.c_[quasar_SDSS['RA'], quasar_SDSS['DEC']], metric='euclidean')"
   ]
  },
  {
   "cell_type": "code",
   "execution_count": 6,
   "metadata": {},
   "outputs": [],
   "source": [
    "quasar_ls = [\n",
    "    quasar_all, \n",
    "    quasar_low,\n",
    "    quasar_high,\n",
    "    *quasar_zbin\n",
    "]"
   ]
  },
  {
   "cell_type": "code",
   "execution_count": 11,
   "metadata": {},
   "outputs": [],
   "source": [
    "q = quasar_all\n",
    "que = tree.query(np.c_[q['ra'], q['dec']])\n",
    "valid = que[0] < 5/3600\n",
    "index = que[1]\n",
    "M_I = quasar_SDSS['M_I'][index].astype(float)\n",
    "M_I[~valid] = np.nan\n",
    "M_I = M_I.flatten()"
   ]
  },
  {
   "cell_type": "code",
   "execution_count": 12,
   "metadata": {},
   "outputs": [
    {
     "data": {
      "text/plain": [
       "array([-26.08581321, -26.65745419, -26.68262305, ..., -25.65601557,\n",
       "       -25.41499148, -24.35537206])"
      ]
     },
     "execution_count": 12,
     "metadata": {},
     "output_type": "execute_result"
    }
   ],
   "source": [
    "M_I"
   ]
  },
  {
   "cell_type": "code",
   "execution_count": 21,
   "metadata": {},
   "outputs": [
    {
     "data": {
      "text/plain": [
       "-25.038733033455614"
      ]
     },
     "execution_count": 21,
     "metadata": {},
     "output_type": "execute_result"
    }
   ],
   "source": [
    "mean_MI(M_I[valid.flatten()])"
   ]
  },
  {
   "cell_type": "code",
   "execution_count": 13,
   "metadata": {},
   "outputs": [],
   "source": [
    "def mean_MI(MIs):\n",
    "    L = 10**((MIs + 25)/(-2.5))\n",
    "    return -2.5*np.log10(L.mean()) - 25\n"
   ]
  },
  {
   "cell_type": "code",
   "execution_count": 22,
   "metadata": {},
   "outputs": [
    {
     "name": "stdout",
     "output_type": "stream",
     "text": [
      "343708 0.8000152398143878 2.199999421096105 1.512227653125804 -25.038733033455614\n",
      "171733 0.8000152398143878 2.1999820553107012 1.51212736600451 -24.035606146427018\n",
      "171765 0.8000399639105563 2.199999421096105 1.5125837882148954 -25.550973409639226\n",
      "114569 0.8000152398143878 1.3123750214556185 1.084231590681535 -24.30328838268877\n",
      "114569 1.3123764939283518 1.7168144990224052 1.513662399529402 -24.974316616987522\n",
      "114569 1.7168150781021316 2.199999320222159 1.9387829660437461 -25.514037424309265\n"
     ]
    }
   ],
   "source": [
    "for q in quasar_ls:\n",
    "    que = tree.query(np.c_[q['ra'], q['dec']])\n",
    "    valid = (que[0] < 5/3600).flatten()\n",
    "    index = que[1].flatten()\n",
    "    M_I = quasar_SDSS['M_I'][index].astype(float)\n",
    "    M_I[~valid] = np.nan\n",
    "    print(len(q), q['z'].min(), q['z'].max(), q['z'].mean(), mean_MI(M_I[valid]))"
   ]
  }
 ],
 "metadata": {
  "kernelspec": {
   "display_name": "corrfunc",
   "language": "python",
   "name": "python3"
  },
  "language_info": {
   "codemirror_mode": {
    "name": "ipython",
    "version": 3
   },
   "file_extension": ".py",
   "mimetype": "text/x-python",
   "name": "python",
   "nbconvert_exporter": "python",
   "pygments_lexer": "ipython3",
   "version": "3.12.2"
  }
 },
 "nbformat": 4,
 "nbformat_minor": 2
}
