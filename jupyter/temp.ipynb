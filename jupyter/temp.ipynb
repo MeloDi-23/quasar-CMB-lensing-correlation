{
 "cells": [
  {
   "cell_type": "code",
   "execution_count": 1,
   "metadata": {},
   "outputs": [],
   "source": [
    "import numpy as np\n",
    "from spherecluster import SphericalKMeans"
   ]
  },
  {
   "cell_type": "code",
   "execution_count": 2,
   "metadata": {},
   "outputs": [],
   "source": [
    "k = SphericalKMeans()"
   ]
  },
  {
   "cell_type": "code",
   "execution_count": 3,
   "metadata": {},
   "outputs": [],
   "source": [
    "quasar_lss_all = np.load('../catalogue/quasar_lss_all.npy')\n",
    "random = np.load('../catalogue/random_quasar_lss_all.npy')\n",
    "phi = np.deg2rad(quasar_lss_all['ra'])\n",
    "theta = np.deg2rad(90 - quasar_lss_all['dec'])\n",
    "X = np.cos(phi)*np.sin(theta)\n",
    "Y = np.sin(phi)*np.sin(theta)\n",
    "Z = np.cos(theta)\n",
    "\n",
    "phi_r = np.deg2rad(random['ra'])\n",
    "theta_r = np.deg2rad(90 - random['dec'])\n",
    "X_r = np.cos(phi_r)*np.sin(theta_r)\n",
    "Y_r = np.sin(phi_r)*np.sin(theta_r)\n",
    "Z_r = np.cos(theta_r)"
   ]
  },
  {
   "cell_type": "code",
   "execution_count": 4,
   "metadata": {},
   "outputs": [
    {
     "ename": "KeyboardInterrupt",
     "evalue": "",
     "output_type": "error",
     "traceback": [
      "\u001b[0;31m---------------------------------------------------------------------------\u001b[0m",
      "\u001b[0;31mKeyboardInterrupt\u001b[0m                         Traceback (most recent call last)",
      "Cell \u001b[0;32mIn[4], line 1\u001b[0m\n\u001b[0;32m----> 1\u001b[0m k\u001b[38;5;241m.\u001b[39mfit(np\u001b[38;5;241m.\u001b[39mc_[X, Y, Z])\n",
      "File \u001b[0;32m~/software/pkg/miniconda3/lib/python3.12/site-packages/spherecluster/spherical_kmeans.py:355\u001b[0m, in \u001b[0;36mSphericalKMeans.fit\u001b[0;34m(self, X, y, sample_weight)\u001b[0m\n\u001b[1;32m    346\u001b[0m random_state \u001b[38;5;241m=\u001b[39m check_random_state(\u001b[38;5;28mself\u001b[39m\u001b[38;5;241m.\u001b[39mrandom_state)\n\u001b[1;32m    348\u001b[0m \u001b[38;5;66;03m# TODO: add check that all data is unit-normalized\u001b[39;00m\n\u001b[1;32m    350\u001b[0m (\n\u001b[1;32m    351\u001b[0m     \u001b[38;5;28mself\u001b[39m\u001b[38;5;241m.\u001b[39mcluster_centers_,\n\u001b[1;32m    352\u001b[0m     \u001b[38;5;28mself\u001b[39m\u001b[38;5;241m.\u001b[39mlabels_,\n\u001b[1;32m    353\u001b[0m     \u001b[38;5;28mself\u001b[39m\u001b[38;5;241m.\u001b[39minertia_,\n\u001b[1;32m    354\u001b[0m     \u001b[38;5;28mself\u001b[39m\u001b[38;5;241m.\u001b[39mn_iter_,\n\u001b[0;32m--> 355\u001b[0m ) \u001b[38;5;241m=\u001b[39m spherical_k_means(\n\u001b[1;32m    356\u001b[0m     X,\n\u001b[1;32m    357\u001b[0m     n_clusters\u001b[38;5;241m=\u001b[39m\u001b[38;5;28mself\u001b[39m\u001b[38;5;241m.\u001b[39mn_clusters,\n\u001b[1;32m    358\u001b[0m     sample_weight\u001b[38;5;241m=\u001b[39msample_weight,\n\u001b[1;32m    359\u001b[0m     init\u001b[38;5;241m=\u001b[39m\u001b[38;5;28mself\u001b[39m\u001b[38;5;241m.\u001b[39minit,\n\u001b[1;32m    360\u001b[0m     n_init\u001b[38;5;241m=\u001b[39m\u001b[38;5;28mself\u001b[39m\u001b[38;5;241m.\u001b[39mn_init,\n\u001b[1;32m    361\u001b[0m     max_iter\u001b[38;5;241m=\u001b[39m\u001b[38;5;28mself\u001b[39m\u001b[38;5;241m.\u001b[39mmax_iter,\n\u001b[1;32m    362\u001b[0m     verbose\u001b[38;5;241m=\u001b[39m\u001b[38;5;28mself\u001b[39m\u001b[38;5;241m.\u001b[39mverbose,\n\u001b[1;32m    363\u001b[0m     tol\u001b[38;5;241m=\u001b[39m\u001b[38;5;28mself\u001b[39m\u001b[38;5;241m.\u001b[39mtol,\n\u001b[1;32m    364\u001b[0m     random_state\u001b[38;5;241m=\u001b[39mrandom_state,\n\u001b[1;32m    365\u001b[0m     copy_x\u001b[38;5;241m=\u001b[39m\u001b[38;5;28mself\u001b[39m\u001b[38;5;241m.\u001b[39mcopy_x,\n\u001b[1;32m    366\u001b[0m     n_jobs\u001b[38;5;241m=\u001b[39m\u001b[38;5;28mself\u001b[39m\u001b[38;5;241m.\u001b[39mn_jobs,\n\u001b[1;32m    367\u001b[0m     return_n_iter\u001b[38;5;241m=\u001b[39m\u001b[38;5;28;01mTrue\u001b[39;00m,\n\u001b[1;32m    368\u001b[0m )\n\u001b[1;32m    370\u001b[0m \u001b[38;5;28;01mreturn\u001b[39;00m \u001b[38;5;28mself\u001b[39m\n",
      "File \u001b[0;32m~/software/pkg/miniconda3/lib/python3.12/site-packages/spherecluster/spherical_kmeans.py:179\u001b[0m, in \u001b[0;36mspherical_k_means\u001b[0;34m(X, n_clusters, sample_weight, init, n_init, max_iter, verbose, tol, random_state, copy_x, n_jobs, algorithm, return_n_iter)\u001b[0m\n\u001b[1;32m    174\u001b[0m \u001b[38;5;28;01mif\u001b[39;00m n_jobs \u001b[38;5;241m==\u001b[39m \u001b[38;5;241m1\u001b[39m:\n\u001b[1;32m    175\u001b[0m     \u001b[38;5;66;03m# For a single thread, less memory is needed if we just store one set\u001b[39;00m\n\u001b[1;32m    176\u001b[0m     \u001b[38;5;66;03m# of the best results (as opposed to one set per run per thread).\u001b[39;00m\n\u001b[1;32m    177\u001b[0m     \u001b[38;5;28;01mfor\u001b[39;00m it \u001b[38;5;129;01min\u001b[39;00m \u001b[38;5;28mrange\u001b[39m(n_init):\n\u001b[1;32m    178\u001b[0m         \u001b[38;5;66;03m# run a k-means once\u001b[39;00m\n\u001b[0;32m--> 179\u001b[0m         labels, inertia, centers, n_iter_ \u001b[38;5;241m=\u001b[39m _spherical_kmeans_single_lloyd(\n\u001b[1;32m    180\u001b[0m             X,\n\u001b[1;32m    181\u001b[0m             n_clusters,\n\u001b[1;32m    182\u001b[0m             sample_weight,\n\u001b[1;32m    183\u001b[0m             max_iter\u001b[38;5;241m=\u001b[39mmax_iter,\n\u001b[1;32m    184\u001b[0m             init\u001b[38;5;241m=\u001b[39minit,\n\u001b[1;32m    185\u001b[0m             verbose\u001b[38;5;241m=\u001b[39mverbose,\n\u001b[1;32m    186\u001b[0m             tol\u001b[38;5;241m=\u001b[39mtol,\n\u001b[1;32m    187\u001b[0m             x_squared_norms\u001b[38;5;241m=\u001b[39mx_squared_norms,\n\u001b[1;32m    188\u001b[0m             random_state\u001b[38;5;241m=\u001b[39mrandom_state,\n\u001b[1;32m    189\u001b[0m         )\n\u001b[1;32m    191\u001b[0m         \u001b[38;5;66;03m# determine if these results are the best so far\u001b[39;00m\n\u001b[1;32m    192\u001b[0m         \u001b[38;5;28;01mif\u001b[39;00m best_inertia \u001b[38;5;129;01mis\u001b[39;00m \u001b[38;5;28;01mNone\u001b[39;00m \u001b[38;5;129;01mor\u001b[39;00m inertia \u001b[38;5;241m<\u001b[39m best_inertia:\n",
      "File \u001b[0;32m~/software/pkg/miniconda3/lib/python3.12/site-packages/spherecluster/spherical_kmeans.py:58\u001b[0m, in \u001b[0;36m_spherical_kmeans_single_lloyd\u001b[0;34m(X, n_clusters, sample_weight, max_iter, init, verbose, x_squared_norms, random_state, tol, precompute_distances)\u001b[0m\n\u001b[1;32m     52\u001b[0m centers_old \u001b[38;5;241m=\u001b[39m centers\u001b[38;5;241m.\u001b[39mcopy()\n\u001b[1;32m     54\u001b[0m \u001b[38;5;66;03m# labels assignment\u001b[39;00m\n\u001b[1;32m     55\u001b[0m \u001b[38;5;66;03m# TODO: _labels_inertia should be done with cosine distance\u001b[39;00m\n\u001b[1;32m     56\u001b[0m \u001b[38;5;66;03m#       since ||a - b|| = 2(1 - cos(a,b)) when a,b are unit normalized\u001b[39;00m\n\u001b[1;32m     57\u001b[0m \u001b[38;5;66;03m#       this doesn't really matter.\u001b[39;00m\n\u001b[0;32m---> 58\u001b[0m labels, inertia \u001b[38;5;241m=\u001b[39m _labels_inertia(\n\u001b[1;32m     59\u001b[0m     X,\n\u001b[1;32m     60\u001b[0m     sample_weight,\n\u001b[1;32m     61\u001b[0m     x_squared_norms,\n\u001b[1;32m     62\u001b[0m     centers,\n\u001b[1;32m     63\u001b[0m     precompute_distances\u001b[38;5;241m=\u001b[39mprecompute_distances,\n\u001b[1;32m     64\u001b[0m     distances\u001b[38;5;241m=\u001b[39mdistances,\n\u001b[1;32m     65\u001b[0m )\n\u001b[1;32m     67\u001b[0m \u001b[38;5;66;03m# computation of the means\u001b[39;00m\n\u001b[1;32m     68\u001b[0m \u001b[38;5;28;01mif\u001b[39;00m sp\u001b[38;5;241m.\u001b[39missparse(X):\n",
      "File \u001b[0;32m~/software/pkg/miniconda3/lib/python3.12/site-packages/spherecluster/legacy.py:38\u001b[0m, in \u001b[0;36m_labels_inertia\u001b[0;34m(X, sample_weight, x_squared_norms, centers, precompute_distances, distances)\u001b[0m\n\u001b[1;32m     31\u001b[0m \u001b[38;5;250m\u001b[39m\u001b[38;5;124;03m\"\"\"E step of the K-means EM algorithm.\u001b[39;00m\n\u001b[1;32m     32\u001b[0m \n\u001b[1;32m     33\u001b[0m \u001b[38;5;124;03mCompute the labels and the inertia of the given samples and centers.\u001b[39;00m\n\u001b[1;32m     34\u001b[0m \u001b[38;5;124;03mThis will compute the distances in-place.\u001b[39;00m\n\u001b[1;32m     35\u001b[0m \u001b[38;5;124;03m\"\"\"\u001b[39;00m\n\u001b[1;32m     37\u001b[0m \u001b[38;5;28;01mif\u001b[39;00m precompute_distances:\n\u001b[0;32m---> 38\u001b[0m     \u001b[38;5;28;01mreturn\u001b[39;00m _labels_inertia_skl(\n\u001b[1;32m     39\u001b[0m         X,\n\u001b[1;32m     40\u001b[0m         sample_weight\u001b[38;5;241m=\u001b[39msample_weight,\n\u001b[1;32m     41\u001b[0m         centers\u001b[38;5;241m=\u001b[39mcenters,\n\u001b[1;32m     42\u001b[0m         x_squared_norms\u001b[38;5;241m=\u001b[39mx_squared_norms,\n\u001b[1;32m     43\u001b[0m     )\n\u001b[1;32m     45\u001b[0m sample_weight \u001b[38;5;241m=\u001b[39m _check_sample_weight(sample_weight, X)\n\u001b[1;32m     46\u001b[0m \u001b[38;5;66;03m# set the default value of centers to -1 to be able to detect any anomaly\u001b[39;00m\n\u001b[1;32m     47\u001b[0m \u001b[38;5;66;03m# easily\u001b[39;00m\n",
      "File \u001b[0;32m~/software/pkg/miniconda3/lib/python3.12/site-packages/mlinsights/mlmodel/_kmeans_022.py:184\u001b[0m, in \u001b[0;36m_labels_inertia_skl\u001b[0;34m(X, sample_weight, x_squared_norms, centers, distances)\u001b[0m\n\u001b[1;32m    180\u001b[0m     inertia \u001b[38;5;241m=\u001b[39m _assign_labels_csr(\n\u001b[1;32m    181\u001b[0m         X, sample_weight, x_squared_norms, centers, labels, distances\u001b[38;5;241m=\u001b[39mdistances\n\u001b[1;32m    182\u001b[0m     )\n\u001b[1;32m    183\u001b[0m \u001b[38;5;28;01melse\u001b[39;00m:\n\u001b[0;32m--> 184\u001b[0m     inertia \u001b[38;5;241m=\u001b[39m _assign_labels_array(\n\u001b[1;32m    185\u001b[0m         X, sample_weight, x_squared_norms, centers, labels, distances\u001b[38;5;241m=\u001b[39mdistances\n\u001b[1;32m    186\u001b[0m     )\n\u001b[1;32m    187\u001b[0m \u001b[38;5;28;01mreturn\u001b[39;00m labels, inertia\n",
      "File \u001b[0;32m~/software/pkg/miniconda3/lib/python3.12/site-packages/mlinsights/mlmodel/_kmeans_022.py:133\u001b[0m, in \u001b[0;36m_assign_labels_array\u001b[0;34m(X, sample_weight, x_squared_norms, centers, labels, distances)\u001b[0m\n\u001b[1;32m    130\u001b[0m dist \u001b[38;5;241m=\u001b[39m \u001b[38;5;241m0.0\u001b[39m\n\u001b[1;32m    131\u001b[0m \u001b[38;5;66;03m# hardcoded: minimize euclidean distance to cluster center:\u001b[39;00m\n\u001b[1;32m    132\u001b[0m \u001b[38;5;66;03m# ||a - b||^2 = ||a||^2 + ||b||^2 -2 <a, b>\u001b[39;00m\n\u001b[0;32m--> 133\u001b[0m dist \u001b[38;5;241m+\u001b[39m\u001b[38;5;241m=\u001b[39m numpy\u001b[38;5;241m.\u001b[39mdot(X[sample_idx, :], centers[center_idx, :])\n\u001b[1;32m    134\u001b[0m dist \u001b[38;5;241m*\u001b[39m\u001b[38;5;241m=\u001b[39m \u001b[38;5;241m-\u001b[39m\u001b[38;5;241m2\u001b[39m\n\u001b[1;32m    135\u001b[0m dist \u001b[38;5;241m+\u001b[39m\u001b[38;5;241m=\u001b[39m center_squared_norms[center_idx]\n",
      "File \u001b[0;32m~/software/pkg/miniconda3/lib/python3.12/site-packages/numpy/core/multiarray.py:741\u001b[0m, in \u001b[0;36mdot\u001b[0;34m(a, b, out)\u001b[0m\n\u001b[1;32m    671\u001b[0m \u001b[38;5;250m    \u001b[39m\u001b[38;5;124;03m\"\"\"\u001b[39;00m\n\u001b[1;32m    672\u001b[0m \u001b[38;5;124;03m    result_type(*arrays_and_dtypes)\u001b[39;00m\n\u001b[1;32m    673\u001b[0m \n\u001b[0;32m   (...)\u001b[0m\n\u001b[1;32m    736\u001b[0m \n\u001b[1;32m    737\u001b[0m \u001b[38;5;124;03m    \"\"\"\u001b[39;00m\n\u001b[1;32m    738\u001b[0m     \u001b[38;5;28;01mreturn\u001b[39;00m arrays_and_dtypes\n\u001b[0;32m--> 741\u001b[0m \u001b[38;5;129m@array_function_from_c_func_and_dispatcher\u001b[39m(_multiarray_umath\u001b[38;5;241m.\u001b[39mdot)\n\u001b[1;32m    742\u001b[0m \u001b[38;5;28;01mdef\u001b[39;00m \u001b[38;5;21mdot\u001b[39m(a, b, out\u001b[38;5;241m=\u001b[39m\u001b[38;5;28;01mNone\u001b[39;00m):\n\u001b[1;32m    743\u001b[0m \u001b[38;5;250m    \u001b[39m\u001b[38;5;124;03m\"\"\"\u001b[39;00m\n\u001b[1;32m    744\u001b[0m \u001b[38;5;124;03m    dot(a, b, out=None)\u001b[39;00m\n\u001b[1;32m    745\u001b[0m \n\u001b[0;32m   (...)\u001b[0m\n\u001b[1;32m    829\u001b[0m \n\u001b[1;32m    830\u001b[0m \u001b[38;5;124;03m    \"\"\"\u001b[39;00m\n\u001b[1;32m    831\u001b[0m     \u001b[38;5;28;01mreturn\u001b[39;00m (a, b, out)\n",
      "\u001b[0;31mKeyboardInterrupt\u001b[0m: "
     ]
    }
   ],
   "source": [
    "k.fit(np.c_[X, Y, Z])"
   ]
  },
  {
   "cell_type": "code",
   "execution_count": null,
   "metadata": {},
   "outputs": [],
   "source": [
    "from sklearn.cluster import KMeans"
   ]
  },
  {
   "cell_type": "code",
   "execution_count": null,
   "metadata": {},
   "outputs": [],
   "source": [
    "k = KMeans()"
   ]
  },
  {
   "cell_type": "code",
   "execution_count": null,
   "metadata": {},
   "outputs": [],
   "source": []
  }
 ],
 "metadata": {
  "kernelspec": {
   "display_name": "k-means",
   "language": "python",
   "name": "python3"
  },
  "language_info": {
   "codemirror_mode": {
    "name": "ipython",
    "version": 3
   },
   "file_extension": ".py",
   "mimetype": "text/x-python",
   "name": "python",
   "nbconvert_exporter": "python",
   "pygments_lexer": "ipython3",
   "version": "3.12.2"
  }
 },
 "nbformat": 4,
 "nbformat_minor": 2
}
