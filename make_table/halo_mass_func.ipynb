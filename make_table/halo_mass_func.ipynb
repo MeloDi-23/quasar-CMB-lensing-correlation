{
 "cells": [
  {
   "cell_type": "code",
   "execution_count": 2,
   "metadata": {},
   "outputs": [],
   "source": [
    "import numpy as np"
   ]
  },
  {
   "cell_type": "code",
   "execution_count": 3,
   "metadata": {},
   "outputs": [],
   "source": [
    "halos = np.load('main_halo_zspace.npy')\n",
    "logMh_m = 11.5\n",
    "logMh_M = 14.72\n",
    "logMh_bin = 0.02\n",
    "logMh_N = int((logMh_M - logMh_m) / logMh_bin)\n",
    "\n",
    "bins = np.arange(logMh_N+1) * logMh_bin + logMh_m\n",
    "res = np.digitize(np.log10(halos['M_h']), bins)"
   ]
  },
  {
   "cell_type": "code",
   "execution_count": 4,
   "metadata": {},
   "outputs": [],
   "source": [
    "func = np.load('halo_mass_function.npy')"
   ]
  },
  {
   "cell_type": "code",
   "execution_count": 14,
   "metadata": {},
   "outputs": [],
   "source": [
    "halo_mass_func = np.zeros(logMh_N, dtype=[('Mass', float), ('count', int), ('nh', float)])\n",
    "halo_mass_func['count'] = np.bincount(res, minlength=logMh_N+1)[1:]\n",
    "halo_mass_func['Mass'] = (bins[1:] + bins[:-1]) / 2\n",
    "halo_mass_func['nh'] = halo_mass_func['count'] / (2500)**3"
   ]
  },
  {
   "cell_type": "code",
   "execution_count": null,
   "metadata": {},
   "outputs": [],
   "source": [
    "np.save('halo_mass_function', halo_mass_func)"
   ]
  }
 ],
 "metadata": {
  "kernelspec": {
   "display_name": "base",
   "language": "python",
   "name": "python3"
  },
  "language_info": {
   "codemirror_mode": {
    "name": "ipython",
    "version": 3
   },
   "file_extension": ".py",
   "mimetype": "text/x-python",
   "name": "python",
   "nbconvert_exporter": "python",
   "pygments_lexer": "ipython3",
   "version": "3.12.2"
  }
 },
 "nbformat": 4,
 "nbformat_minor": 2
}
