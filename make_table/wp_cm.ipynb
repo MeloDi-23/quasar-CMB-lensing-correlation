{
 "cells": [
  {
   "cell_type": "code",
   "execution_count": 1,
   "metadata": {},
   "outputs": [],
   "source": [
    "import numpy as np\n",
    "from Corrfunc.utils import convert_rp_pi_counts_to_wp, convert_3d_counts_to_cf"
   ]
  },
  {
   "cell_type": "code",
   "execution_count": 2,
   "metadata": {},
   "outputs": [],
   "source": [
    "logMh_m = 11.5\n",
    "logMh_M = 14.72\n",
    "logMh_bin = 0.02\n",
    "logMh_N = int((logMh_M - logMh_m) / logMh_bin)"
   ]
  },
  {
   "cell_type": "code",
   "execution_count": 3,
   "metadata": {},
   "outputs": [],
   "source": [
    "halos = np.load('main_halo_zspace.npy')"
   ]
  },
  {
   "cell_type": "code",
   "execution_count": 3,
   "metadata": {},
   "outputs": [],
   "source": [
    "particle = np.loadtxt('./dm_xyz_snap_010_thin.dat')"
   ]
  },
  {
   "cell_type": "code",
   "execution_count": 19,
   "metadata": {},
   "outputs": [],
   "source": [
    "import pickle\n",
    "with open('halo_particle_pair_count_fwhm6_pimax140.bin', 'rb') as f:\n",
    "    count = pickle.load(f)"
   ]
  },
  {
   "cell_type": "code",
   "execution_count": 31,
   "metadata": {},
   "outputs": [],
   "source": [
    "# bins = np.arange(logMh_N+1) * logMh_bin + logMh_m\n",
    "# res = np.digitize(np.log10(halos['M_h']), bins)\n",
    "# NDs = np.bincount(res, minlength=logMh_N+1)\n",
    "# NDs = NDs[1:]\n",
    "# np.save('halo_mass_function.npy', np.rec.fromarrays([(bins[1:]+bins[:-1])/2, NDs], dtype=[('Mass', float), ('count', int)]))"
   ]
  },
  {
   "cell_type": "markdown",
   "metadata": {},
   "source": [
    "calculate the wp"
   ]
  },
  {
   "cell_type": "code",
   "execution_count": 20,
   "metadata": {},
   "outputs": [],
   "source": [
    "vol = np.pi*(count[0]['rmax']**2 - count[0]['rmin']**2)*1           # delta r pi = 1"
   ]
  },
  {
   "cell_type": "code",
   "execution_count": 21,
   "metadata": {},
   "outputs": [],
   "source": [
    "boxsize = 2500\n",
    "NR = 1000_000_000\n",
    "n = NR / (boxsize**3)\n",
    "RR = count[0].copy()\n",
    "RR['npairs'] = (NR*vol*n*2).astype('uint64')            # this has been cross checked to be correct"
   ]
  },
  {
   "cell_type": "code",
   "execution_count": 22,
   "metadata": {},
   "outputs": [],
   "source": [
    "NDs = np.load('halo_mass_function.npy')['count']"
   ]
  },
  {
   "cell_type": "code",
   "execution_count": 23,
   "metadata": {},
   "outputs": [],
   "source": [
    "pimax = 140\n",
    "Nbins = len(RR['npairs'])//pimax"
   ]
  },
  {
   "cell_type": "code",
   "execution_count": 24,
   "metadata": {},
   "outputs": [],
   "source": [
    "w_ps = []\n",
    "ND2 = particle.shape[0]\n",
    "D2R1 = RR.copy()\n",
    "D2R1['npairs'] = ND2*vol*n*2\n",
    "R1R2 = RR\n",
    "for i in range(logMh_N):\n",
    "    if count[i] is None:\n",
    "        w_ps.append(np.zeros_like(w_ps[0]))\n",
    "        continue\n",
    "    D1D2 = count[i]\n",
    "    ND1 = NDs[i]\n",
    "    D1R2 = RR.copy()\n",
    "    D1R2['npairs'] = ND1*vol*n*2\n",
    "    \n",
    "    w_ps.append(convert_rp_pi_counts_to_wp(ND1, ND2, NR, NR, D1D2, D1R2, D2R1, R1R2, pimax=pimax, nrpbins=Nbins))"
   ]
  },
  {
   "cell_type": "code",
   "execution_count": 25,
   "metadata": {},
   "outputs": [],
   "source": [
    "wp_array = np.vstack(w_ps)"
   ]
  },
  {
   "cell_type": "code",
   "execution_count": 26,
   "metadata": {},
   "outputs": [],
   "source": [
    "np.save(f'cm_wp', wp_array)"
   ]
  },
  {
   "cell_type": "markdown",
   "metadata": {},
   "source": [
    "Check the result"
   ]
  },
  {
   "cell_type": "code",
   "execution_count": 29,
   "metadata": {},
   "outputs": [],
   "source": [
    "import matplotlib.pyplot as plt"
   ]
  },
  {
   "cell_type": "code",
   "execution_count": 31,
   "metadata": {},
   "outputs": [],
   "source": [
    "wp_arrays = [np.load(f'cm_{pimax}.npy') for pimax in [80, 140, 200]]"
   ]
  },
  {
   "cell_type": "code",
   "execution_count": 32,
   "metadata": {},
   "outputs": [],
   "source": [
    "sep_min = 0.1\n",
    "sep_max = 100\n",
    "sep_N = 30\n",
    "r_pbins = np.geomspace(sep_min, sep_max, sep_N+1)\n",
    "r_p = (r_pbins[1:]*r_pbins[:-1])**0.5"
   ]
  },
  {
   "cell_type": "code",
   "execution_count": 33,
   "metadata": {},
   "outputs": [
    {
     "data": {
      "text/plain": [
       "<matplotlib.legend.Legend at 0x14d3d0816a20>"
      ]
     },
     "execution_count": 33,
     "metadata": {},
     "output_type": "execute_result"
    },
    {
     "data": {
      "image/png": "[encoded data removed]",
      "text/plain": [
       "<Figure size 640x480 with 1 Axes>"
      ]
     },
     "metadata": {},
     "output_type": "display_data"
    }
   ],
   "source": [
    "for i in range(3):\n",
    "    plt.plot(r_p, wp_arrays[i][75]['wp'], label=str([80, 140, 200][i]))\n",
    "plt.loglog()\n",
    "plt.legend()"
   ]
  },
  {
   "cell_type": "markdown",
   "metadata": {},
   "source": [
    "cross check the DR and RR"
   ]
  },
  {
   "cell_type": "code",
   "execution_count": 58,
   "metadata": {},
   "outputs": [],
   "source": [
    "boxsize = 2500\n",
    "X = np.random.uniform(0, boxsize, 1_000_000_0)\n",
    "Y = np.random.uniform(0, boxsize, 1_000_000_0)\n",
    "Z = np.random.uniform(0, boxsize, 1_000_000_0)"
   ]
  },
  {
   "cell_type": "code",
   "execution_count": 59,
   "metadata": {},
   "outputs": [],
   "source": [
    "from Corrfunc.theory import DD, DDrppi\n",
    "sep_min = 0.1\n",
    "sep_max = 100\n",
    "sep_N = 30\n",
    "\n",
    "pimax = 140\n",
    "boxsize = 2500\n",
    "\n",
    "r_pbins = np.geomspace(sep_min, sep_max, sep_N+1)\n",
    "\n",
    "NR = 1000_000_0\n",
    "n = NR / (boxsize**3)"
   ]
  },
  {
   "cell_type": "code",
   "execution_count": 60,
   "metadata": {},
   "outputs": [
    {
     "data": {
      "text/plain": [
       "array([1.01992337, 1.03579767, 1.0175841 , ..., 0.99999798, 0.99995332,\n",
       "       1.00003926])"
      ]
     },
     "execution_count": 60,
     "metadata": {},
     "output_type": "execute_result"
    }
   ],
   "source": [
    "DR_real = DDrppi(0, 40, pimax, r_pbins, X1=X, Y1=Y, Z1=Z, X2=particle[:,0].T, Y2=particle[:,1].T, Z2=particle[:,2].T, periodic=True, boxsize=boxsize, verbose=True)\n",
    "D1R2 = RR.copy()\n",
    "D1R2['npairs'] = particle.shape[0]*vol*n*2\n",
    "D1R2['npairs'] / DR_real['npairs']"
   ]
  },
  {
   "cell_type": "code",
   "execution_count": null,
   "metadata": {},
   "outputs": [],
   "source": []
  }
 ],
 "metadata": {
  "kernelspec": {
   "display_name": "base",
   "language": "python",
   "name": "python3"
  },
  "language_info": {
   "codemirror_mode": {
    "name": "ipython",
    "version": 3
   },
   "file_extension": ".py",
   "mimetype": "text/x-python",
   "name": "python",
   "nbconvert_exporter": "python",
   "pygments_lexer": "ipython3",
   "version": "3.12.2"
  }
 },
 "nbformat": 4,
 "nbformat_minor": 2
}
