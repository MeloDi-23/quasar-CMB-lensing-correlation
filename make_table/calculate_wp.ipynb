{
 "cells": [
  {
   "cell_type": "code",
   "execution_count": 1,
   "metadata": {},
   "outputs": [],
   "source": [
    "import numpy as np\n",
    "import os\n",
    "import re\n",
    "from Corrfunc.utils import convert_rp_pi_counts_to_wp, convert_3d_counts_to_cf"
   ]
  },
  {
   "cell_type": "code",
   "execution_count": 2,
   "metadata": {},
   "outputs": [],
   "source": [
    "logMh_m = 11.5\n",
    "logMh_M = 14.5\n",
    "logMh_bin = 0.02\n",
    "logMh_N = int((logMh_M - logMh_m) / logMh_bin)"
   ]
  },
  {
   "cell_type": "code",
   "execution_count": null,
   "metadata": {},
   "outputs": [],
   "source": [
    "pattern = re.compile(r'result\\[\\(([0-9]+),([0-9]+)\\)\\].npy')\n",
    "result = {}\n",
    "for k in os.listdir():\n",
    "    if k.endswith('.npy'):\n",
    "        res = np.load(k)\n",
    "        match_res = pattern.match(k)\n",
    "        if match_res:\n",
    "            i, j = match_res.groups()\n",
    "            result[(int(i), int(j))] = res['npairs']"
   ]
  },
  {
   "cell_type": "code",
   "execution_count": null,
   "metadata": {},
   "outputs": [],
   "source": [
    "result_array = np.zeros(logMh_N*(logMh_N+1)//2, dtype=[('i', int), ('j', int), ('npairs', 'uint64', len(result[(1,1)]))])\n",
    "zero_array = np.zeros_like(result[(1,1)])"
   ]
  },
  {
   "cell_type": "code",
   "execution_count": 38,
   "metadata": {},
   "outputs": [],
   "source": [
    "index = 0\n",
    "for i in range(1, logMh_N+1):\n",
    "    for j in range(1, i+1):\n",
    "        result_array['i'][index] = i\n",
    "        result_array['j'][index] = j\n",
    "        result_array['npairs'][index] = result.get((i,j), zero_array)\n",
    "        index += 1"
   ]
  },
  {
   "cell_type": "code",
   "execution_count": 40,
   "metadata": {},
   "outputs": [],
   "source": [
    "np.save('halo_halo_count', result_array)"
   ]
  },
  {
   "cell_type": "markdown",
   "metadata": {},
   "source": [
    "calculate the wp"
   ]
  },
  {
   "cell_type": "code",
   "execution_count": 4,
   "metadata": {},
   "outputs": [],
   "source": [
    "result_array = np.load('halo_halo_count.npy')\n",
    "calc = np.load('./result[(1,1)].npy')\n",
    "vol = np.pi*(calc['rmax']**2 - calc['rmin']**2)*1           # delta r pi = 1"
   ]
  },
  {
   "cell_type": "code",
   "execution_count": 34,
   "metadata": {},
   "outputs": [],
   "source": [
    "boxsize = 2500\n",
    "NR = 1000_000_000\n",
    "n = NR / (boxsize**3)\n",
    "RR = calc.copy()\n",
    "RR['npairs'] = (NR*vol*n*2).astype('uint64')            # this has been cross checked to be correct"
   ]
  },
  {
   "cell_type": "code",
   "execution_count": 35,
   "metadata": {},
   "outputs": [],
   "source": [
    "halos = np.load('main_halo_zspace.npy')\n",
    "bins = np.arange(logMh_N+1) * logMh_bin + logMh_m\n",
    "\n",
    "res = np.digitize(np.log10(halos['M_h']), bins)\n",
    "NDs = []\n",
    "for i in range(1, logMh_N+1):\n",
    "    NDs.append((res == i).sum())"
   ]
  },
  {
   "cell_type": "code",
   "execution_count": 37,
   "metadata": {},
   "outputs": [],
   "source": [
    "pimax = 140\n",
    "Nbins = len(RR['npairs'])//pimax"
   ]
  },
  {
   "cell_type": "code",
   "execution_count": 38,
   "metadata": {},
   "outputs": [],
   "source": [
    "w_ps = []\n",
    "for k in result_array:\n",
    "    i = k['i']\n",
    "    j = k['j']\n",
    "    ND1 = NDs[i-1]\n",
    "    ND2 = NDs[j-1]\n",
    "    D1R2 = RR.copy()\n",
    "    D1R2['npairs'] = ND1*vol*n*2\n",
    "    D2R1 = RR.copy()\n",
    "    D2R1['npairs'] = ND2*vol*n*2\n",
    "    R1R2 = RR\n",
    "    D1D2 = RR.copy()\n",
    "    D1D2['npairs'] = k['npairs']\n",
    "    w_ps.append(convert_rp_pi_counts_to_wp(ND1, ND2, NR, NR, D1D2, D1R2, D2R1, R1R2, pimax=pimax, nrpbins=Nbins))"
   ]
  },
  {
   "cell_type": "code",
   "execution_count": null,
   "metadata": {},
   "outputs": [],
   "source": [
    "wp_array = np.zeros(logMh_N*(logMh_N+1)//2, dtype=[('i', int), ('j', int), ('wp', float, Nbins)])\n",
    "wp_array['i'] = result_array['i']\n",
    "wp_array['j'] = result_array['j']\n",
    "wp_array['wp'] = w_ps"
   ]
  },
  {
   "cell_type": "code",
   "execution_count": 58,
   "metadata": {},
   "outputs": [],
   "source": [
    "np.save('halo_halo_auto_corr_table', wp_array)\n",
    "np.save('halo_mass_function', np.array(NDs))"
   ]
  },
  {
   "cell_type": "markdown",
   "metadata": {},
   "source": [
    "cross check the DR and RR"
   ]
  },
  {
   "cell_type": "code",
   "execution_count": 6,
   "metadata": {},
   "outputs": [],
   "source": [
    "boxsize = 2500\n",
    "X = np.random.uniform(0, boxsize, 1_000_000_0)\n",
    "Y = np.random.uniform(0, boxsize, 1_000_000_0)\n",
    "Z = np.random.uniform(0, boxsize, 1_000_000_0)"
   ]
  },
  {
   "cell_type": "code",
   "execution_count": 7,
   "metadata": {},
   "outputs": [],
   "source": [
    "from Corrfunc.theory import DD, DDrppi\n",
    "sep_min = 0.1\n",
    "sep_max = 100\n",
    "sep_N = 30\n",
    "\n",
    "pimax = 140\n",
    "boxsize = 2500\n",
    "\n",
    "r_pbins = np.geomspace(sep_min, sep_max, sep_N+1)\n",
    "\n",
    "NR = 1000_000_0\n",
    "n = NR / (boxsize**3)"
   ]
  },
  {
   "cell_type": "code",
   "execution_count": null,
   "metadata": {},
   "outputs": [],
   "source": [
    "RR = calc.copy()\n",
    "RR['npairs'] = (NR*vol*n*2).astype('uint64')\n",
    "RR_real = DDrppi(1, 40, pimax, r_pbins, X1=X, Y1=Y, Z1=Z, periodic=True, boxsize=boxsize, verbose=False)\n",
    "RR['npairs']/RR_real['npairs']"
   ]
  },
  {
   "cell_type": "code",
   "execution_count": null,
   "metadata": {},
   "outputs": [],
   "source": [
    "bins = np.arange(logMh_N+1) * logMh_bin + logMh_m\n",
    "res = np.digitize(np.log10(halos['M_h']), bins)\n",
    "halos = np.load('main_halo_zspace.npy')\n",
    "halo1 = halos[res == 1]\n",
    "DR_real = DDrppi(0, 40, pimax, r_pbins, X1=X, Y1=Y, Z1=Z, X2=halo1['X'], Y2=halo1['Y'], Z2=halo1['Z'], periodic=True, boxsize=boxsize, verbose=False)\n",
    "D1R2 = RR.copy()\n",
    "D1R2['npairs'] = len(halo1)*vol*n*2\n",
    "D1R2['npairs'] / DR_real['npairs']"
   ]
  },
  {
   "cell_type": "markdown",
   "metadata": {},
   "source": [
    "check the result"
   ]
  },
  {
   "cell_type": "code",
   "execution_count": 6,
   "metadata": {},
   "outputs": [],
   "source": [
    "wp_array = np.load('halo_halo_auto_corr_table.npy')"
   ]
  },
  {
   "cell_type": "code",
   "execution_count": 11,
   "metadata": {},
   "outputs": [
    {
     "data": {
      "text/plain": [
       "[]"
      ]
     },
     "execution_count": 11,
     "metadata": {},
     "output_type": "execute_result"
    },
    {
     "data": {
      "image/png": "[encoded data removed]",
      "text/plain": [
       "<Figure size 640x480 with 1 Axes>"
      ]
     },
     "metadata": {},
     "output_type": "display_data"
    }
   ],
   "source": [
    "import matplotlib.pyplot as plt\n",
    "for i in range(0, 100, 10):\n",
    "    plt.plot(wp_array[i]['wp'])\n",
    "plt.semilogy()"
   ]
  },
  {
   "cell_type": "code",
   "execution_count": null,
   "metadata": {},
   "outputs": [],
   "source": []
  }
 ],
 "metadata": {
  "kernelspec": {
   "display_name": "base",
   "language": "python",
   "name": "python3"
  },
  "language_info": {
   "codemirror_mode": {
    "name": "ipython",
    "version": 3
   },
   "file_extension": ".py",
   "mimetype": "text/x-python",
   "name": "python",
   "nbconvert_exporter": "python",
   "pygments_lexer": "ipython3",
   "version": "3.12.2"
  }
 },
 "nbformat": 4,
 "nbformat_minor": 2
}
