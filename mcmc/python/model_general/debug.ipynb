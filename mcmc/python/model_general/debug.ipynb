{
 "cells": [
  {
   "cell_type": "markdown",
   "metadata": {},
   "source": [
    "Drawing the corner from HDFBackend. You can apply different burnin to it, and you can get extra information from it."
   ]
  },
  {
   "cell_type": "code",
   "execution_count": 2,
   "metadata": {},
   "outputs": [],
   "source": [
    "from emcee.backends import HDFBackend\n",
    "import numpy as np\n",
    "import corner\n",
    "import matplotlib.pyplot as plt\n",
    "from read_files import *\n",
    "from calc_wp import w_p\n",
    "from run_mcmc import HODParameter"
   ]
  },
  {
   "cell_type": "code",
   "execution_count": 16,
   "metadata": {},
   "outputs": [],
   "source": [
    "with open('config_small.yaml', 'r') as f:\n",
    "    par_configs, other_configs = list(yaml.load_all(f, yaml.FullLoader))\n",
    "# ========== reading configs ==========\n",
    "\n",
    "# don't set the lgMmin too large or sig_lgM too small, otherwise N_c will be all zeros\n",
    "available_fields = ['Nwalkers', 'Nstep', 'Nburnin', 'Npro', 'auto_range', 'cross_range',\n",
    "                    'backend_file', 'numpy_file', 'wp_table_path', 'signal_path']\n",
    "Nwalkers = 40\n",
    "Nstep = 4000\n",
    "Nburnin = 300\n",
    "Npro = 40\n",
    "auto_range = None\n",
    "cross_range = None\n",
    "backend_file = ''\n",
    "numpy_file = ''\n",
    "wp_table_path = '../wp_table'\n",
    "signal_path = '../signal'\n",
    "\n",
    "for k in available_fields:\n",
    "    if k in other_configs:\n",
    "        locals()[k] = other_configs[k]\n",
    "\n",
    "wp_table = read_wp(wp_table_path)\n",
    "rp_auto, signal_auto, rp_cross, signal_cross = read_signal(signal_path + '/signal.npy')\n",
    "cov = read_cov(signal_path + '/cov.npy')\n",
    "logM, Nh = read_halo_mass_function('../halo_mass_function.npy')\n",
    "# for better performance I would recommend setting these as global variable\n",
    "\n",
    "# ========== apply the fitting range ==========\n",
    "\n",
    "if auto_range or cross_range:\n",
    "    if auto_range is None:\n",
    "        auto_range = [0, len(rp_auto)]\n",
    "    if cross_range is None:\n",
    "        cross_range = [0, len(rp_cross)]\n",
    "    l_a, r_a = auto_range[0], auto_range[1]\n",
    "    l_c, r_c = cross_range[0], cross_range[1]\n",
    "\n",
    "    auto_size = len(rp_auto)\n",
    "    cross_size = len(rp_cross)\n",
    "    rp_auto = rp_auto[l_a:r_a]\n",
    "    rp_cross = rp_cross[l_c:r_c]\n",
    "    signal_auto = signal_auto[l_a:r_a]\n",
    "    signal_cross = signal_cross[l_c:r_c]\n",
    "\n",
    "    cov = np.vstack((\n",
    "        np.hstack((cov[l_c:r_c, l_c:r_c], cov[l_c:r_c, cross_size+l_a:cross_size+r_a])),\n",
    "        np.hstack((cov[cross_size+l_a:cross_size+r_a, l_c:r_c], cov[cross_size+l_a:cross_size+r_a, cross_size+l_a:cross_size+r_a]))\n",
    "    ))\n",
    "\n",
    "signal = np.hstack((signal_cross, signal_auto))\n",
    "cov_inv = np.linalg.inv(cov)"
   ]
  },
  {
   "cell_type": "code",
   "execution_count": 18,
   "metadata": {},
   "outputs": [],
   "source": [
    "wp_table_auto = interpolate_table(wp_table, rp_auto)"
   ]
  },
  {
   "cell_type": "code",
   "execution_count": null,
   "metadata": {},
   "outputs": [],
   "source": [
    "# ========== handle interpolating table ==========\n",
    "wp_table_auto = interpolate_table(wp_table, rp_auto)\n",
    "wp_table_cross = interpolate_table(wp_table, rp_cross)\n",
    "\n",
    "parameter = HODParameter.from_config(par_configs)"
   ]
  },
  {
   "cell_type": "code",
   "execution_count": 20,
   "metadata": {},
   "outputs": [],
   "source": [
    "rp_auto, signal_auto, rp_cross, signal_cross = read_signal(signal_path + '/signal.npy')\n",
    "cov = read_cov(signal_path + '/cov.npy')"
   ]
  },
  {
   "cell_type": "code",
   "execution_count": 22,
   "metadata": {},
   "outputs": [
    {
     "data": {
      "text/plain": [
       "25"
      ]
     },
     "execution_count": 22,
     "metadata": {},
     "output_type": "execute_result"
    }
   ],
   "source": [
    "len(rp_auto) - 2"
   ]
  },
  {
   "cell_type": "code",
   "execution_count": 21,
   "metadata": {},
   "outputs": [
    {
     "data": {
      "text/plain": [
       "(42, 42)"
      ]
     },
     "execution_count": 21,
     "metadata": {},
     "output_type": "execute_result"
    }
   ],
   "source": [
    "cov.shape"
   ]
  },
  {
   "cell_type": "code",
   "execution_count": 19,
   "metadata": {},
   "outputs": [
    {
     "data": {
      "text/plain": [
       "(13, 13)"
      ]
     },
     "execution_count": 19,
     "metadata": {},
     "output_type": "execute_result"
    }
   ],
   "source": [
    "cov.shape"
   ]
  }
 ],
 "metadata": {
  "kernelspec": {
   "display_name": "corrfunc",
   "language": "python",
   "name": "python3"
  },
  "language_info": {
   "codemirror_mode": {
    "name": "ipython",
    "version": 3
   },
   "file_extension": ".py",
   "mimetype": "text/x-python",
   "name": "python",
   "nbconvert_exporter": "python",
   "pygments_lexer": "ipython3",
   "version": "3.12.2"
  }
 },
 "nbformat": 4,
 "nbformat_minor": 2
}
